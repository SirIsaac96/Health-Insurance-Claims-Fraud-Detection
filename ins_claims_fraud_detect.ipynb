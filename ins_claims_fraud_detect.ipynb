{
 "cells": [
  {
   "cell_type": "code",
   "execution_count": 110,
   "metadata": {},
   "outputs": [],
   "source": [
    "# Necessary libraries\n",
    "import pandas as pd\n",
    "import numpy as np # for array calculations\n",
    "import matplotlib.pyplot as plt # for data visualization\n",
    "import seaborn as sns # for data visualization\n",
    "import warnings # for suppressing warnings\n",
    "warnings.filterwarnings('ignore') \n",
    "\n",
    "# set max_columns to None, to display all the columns of the dataframe\n",
    "pd.options.display.max_columns = None"
   ]
  },
  {
   "cell_type": "code",
   "execution_count": 2,
   "metadata": {},
   "outputs": [
    {
     "data": {
      "text/html": [
       "<div>\n",
       "<style scoped>\n",
       "    .dataframe tbody tr th:only-of-type {\n",
       "        vertical-align: middle;\n",
       "    }\n",
       "\n",
       "    .dataframe tbody tr th {\n",
       "        vertical-align: top;\n",
       "    }\n",
       "\n",
       "    .dataframe thead th {\n",
       "        text-align: right;\n",
       "    }\n",
       "</style>\n",
       "<table border=\"1\" class=\"dataframe\">\n",
       "  <thead>\n",
       "    <tr style=\"text-align: right;\">\n",
       "      <th></th>\n",
       "      <th>ClmAdmitDiagnosisCode</th>\n",
       "      <th>ClmDiagnosisCode_1</th>\n",
       "      <th>ClmDiagnosisCode_2</th>\n",
       "      <th>ClmDiagnosisCode_3</th>\n",
       "      <th>ClmDiagnosisCode_9</th>\n",
       "      <th>Admitted</th>\n",
       "      <th>Gender</th>\n",
       "      <th>RenalDiseaseIndicator</th>\n",
       "      <th>ChronicCond_Alzheimer</th>\n",
       "      <th>ChronicCond_Heartfailure</th>\n",
       "      <th>ChronicCond_KidneyDisease</th>\n",
       "      <th>ChronicCond_Cancer</th>\n",
       "      <th>ChronicCond_ObstrPulmonary</th>\n",
       "      <th>ChronicCond_Depression</th>\n",
       "      <th>ChronicCond_Diabetes</th>\n",
       "      <th>ChronicCond_IschemicHeart</th>\n",
       "      <th>ChronicCond_Osteoporasis</th>\n",
       "      <th>ChronicCond_rheumatoidarthritis</th>\n",
       "      <th>ChronicCond_stroke</th>\n",
       "      <th>PotentialFraud</th>\n",
       "      <th>TotalClaimAmt</th>\n",
       "      <th>IPTotalAmt</th>\n",
       "      <th>OPTotalAmt</th>\n",
       "      <th>IsAlive</th>\n",
       "      <th>Age</th>\n",
       "      <th>ClaimSettlementDuration</th>\n",
       "      <th>NumUniquePhysician</th>\n",
       "      <th>NumPhysicianRole</th>\n",
       "      <th>SamePhysicianMultipleRole1</th>\n",
       "      <th>SamePhysicianMultipleRole2</th>\n",
       "      <th>PhysCode_PHY330576</th>\n",
       "      <th>PhysCode_PHY412132</th>\n",
       "      <th>PhysCode_PHY341578</th>\n",
       "      <th>PhysCode_PHY337425</th>\n",
       "      <th>ClaimDiagCode_4019</th>\n",
       "      <th>ClaimDiagCode_25000</th>\n",
       "      <th>ClaimDiagCode_2724</th>\n",
       "      <th>ClaimDiagCode_V5869</th>\n",
       "      <th>ClaimDiagCode_4011</th>\n",
       "      <th>ClaimDiagCode_42731</th>\n",
       "      <th>ClaimDiagCode_V5861</th>\n",
       "      <th>ClaimDiagCode_2720</th>\n",
       "      <th>ClaimDiagCode_2449</th>\n",
       "      <th>ClaimDiagCode_4280</th>\n",
       "    </tr>\n",
       "  </thead>\n",
       "  <tbody>\n",
       "    <tr>\n",
       "      <th>0</th>\n",
       "      <td>1</td>\n",
       "      <td>1</td>\n",
       "      <td>1</td>\n",
       "      <td>1</td>\n",
       "      <td>1</td>\n",
       "      <td>1</td>\n",
       "      <td>1</td>\n",
       "      <td>0</td>\n",
       "      <td>1</td>\n",
       "      <td>0</td>\n",
       "      <td>1</td>\n",
       "      <td>0</td>\n",
       "      <td>0</td>\n",
       "      <td>1</td>\n",
       "      <td>1</td>\n",
       "      <td>1</td>\n",
       "      <td>0</td>\n",
       "      <td>1</td>\n",
       "      <td>1</td>\n",
       "      <td>1</td>\n",
       "      <td>27068.0</td>\n",
       "      <td>39204</td>\n",
       "      <td>130</td>\n",
       "      <td>1</td>\n",
       "      <td>67</td>\n",
       "      <td>6</td>\n",
       "      <td>1</td>\n",
       "      <td>1</td>\n",
       "      <td>0</td>\n",
       "      <td>0</td>\n",
       "      <td>0</td>\n",
       "      <td>0</td>\n",
       "      <td>0</td>\n",
       "      <td>0</td>\n",
       "      <td>1</td>\n",
       "      <td>0</td>\n",
       "      <td>1</td>\n",
       "      <td>0</td>\n",
       "      <td>0</td>\n",
       "      <td>0</td>\n",
       "      <td>0</td>\n",
       "      <td>0</td>\n",
       "      <td>0</td>\n",
       "      <td>0</td>\n",
       "    </tr>\n",
       "    <tr>\n",
       "      <th>1</th>\n",
       "      <td>0</td>\n",
       "      <td>1</td>\n",
       "      <td>1</td>\n",
       "      <td>1</td>\n",
       "      <td>1</td>\n",
       "      <td>0</td>\n",
       "      <td>1</td>\n",
       "      <td>0</td>\n",
       "      <td>1</td>\n",
       "      <td>1</td>\n",
       "      <td>1</td>\n",
       "      <td>0</td>\n",
       "      <td>0</td>\n",
       "      <td>0</td>\n",
       "      <td>0</td>\n",
       "      <td>1</td>\n",
       "      <td>0</td>\n",
       "      <td>0</td>\n",
       "      <td>0</td>\n",
       "      <td>1</td>\n",
       "      <td>50.0</td>\n",
       "      <td>26136</td>\n",
       "      <td>650</td>\n",
       "      <td>1</td>\n",
       "      <td>78</td>\n",
       "      <td>0</td>\n",
       "      <td>2</td>\n",
       "      <td>2</td>\n",
       "      <td>0</td>\n",
       "      <td>0</td>\n",
       "      <td>0</td>\n",
       "      <td>0</td>\n",
       "      <td>0</td>\n",
       "      <td>0</td>\n",
       "      <td>0</td>\n",
       "      <td>0</td>\n",
       "      <td>0</td>\n",
       "      <td>0</td>\n",
       "      <td>0</td>\n",
       "      <td>0</td>\n",
       "      <td>0</td>\n",
       "      <td>0</td>\n",
       "      <td>0</td>\n",
       "      <td>1</td>\n",
       "    </tr>\n",
       "    <tr>\n",
       "      <th>2</th>\n",
       "      <td>1</td>\n",
       "      <td>1</td>\n",
       "      <td>1</td>\n",
       "      <td>1</td>\n",
       "      <td>1</td>\n",
       "      <td>1</td>\n",
       "      <td>0</td>\n",
       "      <td>0</td>\n",
       "      <td>1</td>\n",
       "      <td>1</td>\n",
       "      <td>1</td>\n",
       "      <td>0</td>\n",
       "      <td>1</td>\n",
       "      <td>0</td>\n",
       "      <td>0</td>\n",
       "      <td>1</td>\n",
       "      <td>0</td>\n",
       "      <td>0</td>\n",
       "      <td>0</td>\n",
       "      <td>1</td>\n",
       "      <td>20068.0</td>\n",
       "      <td>20068</td>\n",
       "      <td>120</td>\n",
       "      <td>1</td>\n",
       "      <td>96</td>\n",
       "      <td>12</td>\n",
       "      <td>3</td>\n",
       "      <td>3</td>\n",
       "      <td>0</td>\n",
       "      <td>0</td>\n",
       "      <td>0</td>\n",
       "      <td>0</td>\n",
       "      <td>0</td>\n",
       "      <td>0</td>\n",
       "      <td>0</td>\n",
       "      <td>0</td>\n",
       "      <td>0</td>\n",
       "      <td>0</td>\n",
       "      <td>0</td>\n",
       "      <td>0</td>\n",
       "      <td>0</td>\n",
       "      <td>0</td>\n",
       "      <td>0</td>\n",
       "      <td>0</td>\n",
       "    </tr>\n",
       "    <tr>\n",
       "      <th>3</th>\n",
       "      <td>1</td>\n",
       "      <td>1</td>\n",
       "      <td>1</td>\n",
       "      <td>1</td>\n",
       "      <td>1</td>\n",
       "      <td>1</td>\n",
       "      <td>1</td>\n",
       "      <td>0</td>\n",
       "      <td>0</td>\n",
       "      <td>0</td>\n",
       "      <td>0</td>\n",
       "      <td>0</td>\n",
       "      <td>0</td>\n",
       "      <td>0</td>\n",
       "      <td>0</td>\n",
       "      <td>1</td>\n",
       "      <td>1</td>\n",
       "      <td>0</td>\n",
       "      <td>0</td>\n",
       "      <td>1</td>\n",
       "      <td>18068.0</td>\n",
       "      <td>18068</td>\n",
       "      <td>1590</td>\n",
       "      <td>1</td>\n",
       "      <td>87</td>\n",
       "      <td>18</td>\n",
       "      <td>1</td>\n",
       "      <td>2</td>\n",
       "      <td>1</td>\n",
       "      <td>0</td>\n",
       "      <td>0</td>\n",
       "      <td>0</td>\n",
       "      <td>0</td>\n",
       "      <td>0</td>\n",
       "      <td>1</td>\n",
       "      <td>0</td>\n",
       "      <td>0</td>\n",
       "      <td>0</td>\n",
       "      <td>0</td>\n",
       "      <td>0</td>\n",
       "      <td>0</td>\n",
       "      <td>0</td>\n",
       "      <td>0</td>\n",
       "      <td>0</td>\n",
       "    </tr>\n",
       "    <tr>\n",
       "      <th>4</th>\n",
       "      <td>1</td>\n",
       "      <td>1</td>\n",
       "      <td>1</td>\n",
       "      <td>1</td>\n",
       "      <td>0</td>\n",
       "      <td>1</td>\n",
       "      <td>0</td>\n",
       "      <td>0</td>\n",
       "      <td>0</td>\n",
       "      <td>1</td>\n",
       "      <td>0</td>\n",
       "      <td>0</td>\n",
       "      <td>1</td>\n",
       "      <td>0</td>\n",
       "      <td>1</td>\n",
       "      <td>1</td>\n",
       "      <td>1</td>\n",
       "      <td>1</td>\n",
       "      <td>0</td>\n",
       "      <td>1</td>\n",
       "      <td>14068.0</td>\n",
       "      <td>29136</td>\n",
       "      <td>610</td>\n",
       "      <td>1</td>\n",
       "      <td>80</td>\n",
       "      <td>4</td>\n",
       "      <td>3</td>\n",
       "      <td>3</td>\n",
       "      <td>0</td>\n",
       "      <td>0</td>\n",
       "      <td>0</td>\n",
       "      <td>0</td>\n",
       "      <td>0</td>\n",
       "      <td>0</td>\n",
       "      <td>1</td>\n",
       "      <td>0</td>\n",
       "      <td>0</td>\n",
       "      <td>0</td>\n",
       "      <td>0</td>\n",
       "      <td>0</td>\n",
       "      <td>0</td>\n",
       "      <td>0</td>\n",
       "      <td>1</td>\n",
       "      <td>0</td>\n",
       "    </tr>\n",
       "  </tbody>\n",
       "</table>\n",
       "</div>"
      ],
      "text/plain": [
       "   ClmAdmitDiagnosisCode  ClmDiagnosisCode_1  ClmDiagnosisCode_2  \\\n",
       "0                      1                   1                   1   \n",
       "1                      0                   1                   1   \n",
       "2                      1                   1                   1   \n",
       "3                      1                   1                   1   \n",
       "4                      1                   1                   1   \n",
       "\n",
       "   ClmDiagnosisCode_3  ClmDiagnosisCode_9  Admitted  Gender  \\\n",
       "0                   1                   1         1       1   \n",
       "1                   1                   1         0       1   \n",
       "2                   1                   1         1       0   \n",
       "3                   1                   1         1       1   \n",
       "4                   1                   0         1       0   \n",
       "\n",
       "   RenalDiseaseIndicator  ChronicCond_Alzheimer  ChronicCond_Heartfailure  \\\n",
       "0                      0                      1                         0   \n",
       "1                      0                      1                         1   \n",
       "2                      0                      1                         1   \n",
       "3                      0                      0                         0   \n",
       "4                      0                      0                         1   \n",
       "\n",
       "   ChronicCond_KidneyDisease  ChronicCond_Cancer  ChronicCond_ObstrPulmonary  \\\n",
       "0                          1                   0                           0   \n",
       "1                          1                   0                           0   \n",
       "2                          1                   0                           1   \n",
       "3                          0                   0                           0   \n",
       "4                          0                   0                           1   \n",
       "\n",
       "   ChronicCond_Depression  ChronicCond_Diabetes  ChronicCond_IschemicHeart  \\\n",
       "0                       1                     1                          1   \n",
       "1                       0                     0                          1   \n",
       "2                       0                     0                          1   \n",
       "3                       0                     0                          1   \n",
       "4                       0                     1                          1   \n",
       "\n",
       "   ChronicCond_Osteoporasis  ChronicCond_rheumatoidarthritis  \\\n",
       "0                         0                                1   \n",
       "1                         0                                0   \n",
       "2                         0                                0   \n",
       "3                         1                                0   \n",
       "4                         1                                1   \n",
       "\n",
       "   ChronicCond_stroke  PotentialFraud  TotalClaimAmt  IPTotalAmt  OPTotalAmt  \\\n",
       "0                   1               1        27068.0       39204         130   \n",
       "1                   0               1           50.0       26136         650   \n",
       "2                   0               1        20068.0       20068         120   \n",
       "3                   0               1        18068.0       18068        1590   \n",
       "4                   0               1        14068.0       29136         610   \n",
       "\n",
       "   IsAlive  Age  ClaimSettlementDuration  NumUniquePhysician  \\\n",
       "0        1   67                        6                   1   \n",
       "1        1   78                        0                   2   \n",
       "2        1   96                       12                   3   \n",
       "3        1   87                       18                   1   \n",
       "4        1   80                        4                   3   \n",
       "\n",
       "   NumPhysicianRole  SamePhysicianMultipleRole1  SamePhysicianMultipleRole2  \\\n",
       "0                 1                           0                           0   \n",
       "1                 2                           0                           0   \n",
       "2                 3                           0                           0   \n",
       "3                 2                           1                           0   \n",
       "4                 3                           0                           0   \n",
       "\n",
       "   PhysCode_PHY330576  PhysCode_PHY412132  PhysCode_PHY341578  \\\n",
       "0                   0                   0                   0   \n",
       "1                   0                   0                   0   \n",
       "2                   0                   0                   0   \n",
       "3                   0                   0                   0   \n",
       "4                   0                   0                   0   \n",
       "\n",
       "   PhysCode_PHY337425  ClaimDiagCode_4019  ClaimDiagCode_25000  \\\n",
       "0                   0                   1                    0   \n",
       "1                   0                   0                    0   \n",
       "2                   0                   0                    0   \n",
       "3                   0                   1                    0   \n",
       "4                   0                   1                    0   \n",
       "\n",
       "   ClaimDiagCode_2724  ClaimDiagCode_V5869  ClaimDiagCode_4011  \\\n",
       "0                   1                    0                   0   \n",
       "1                   0                    0                   0   \n",
       "2                   0                    0                   0   \n",
       "3                   0                    0                   0   \n",
       "4                   0                    0                   0   \n",
       "\n",
       "   ClaimDiagCode_42731  ClaimDiagCode_V5861  ClaimDiagCode_2720  \\\n",
       "0                    0                    0                   0   \n",
       "1                    0                    0                   0   \n",
       "2                    0                    0                   0   \n",
       "3                    0                    0                   0   \n",
       "4                    0                    0                   0   \n",
       "\n",
       "   ClaimDiagCode_2449  ClaimDiagCode_4280  \n",
       "0                   0                   0  \n",
       "1                   0                   1  \n",
       "2                   0                   0  \n",
       "3                   0                   0  \n",
       "4                   1                   0  "
      ]
     },
     "execution_count": 2,
     "metadata": {},
     "output_type": "execute_result"
    }
   ],
   "source": [
    "data = pd.read_csv('C:/claims_fraud_datasets/cleanedclaim_data.csv')\n",
    "data.head()"
   ]
  },
  {
   "cell_type": "code",
   "execution_count": 3,
   "metadata": {},
   "outputs": [
    {
     "data": {
      "text/plain": [
       "True"
      ]
     },
     "execution_count": 3,
     "metadata": {},
     "output_type": "execute_result"
    }
   ],
   "source": [
    "# Checking if the dataset has duplicates\n",
    "data.duplicated().any()"
   ]
  },
  {
   "cell_type": "code",
   "execution_count": 4,
   "metadata": {},
   "outputs": [
    {
     "data": {
      "text/plain": [
       "(555509, 44)"
      ]
     },
     "execution_count": 4,
     "metadata": {},
     "output_type": "execute_result"
    }
   ],
   "source": [
    "data.drop_duplicates(inplace=True)\n",
    "data.shape"
   ]
  },
  {
   "cell_type": "code",
   "execution_count": 5,
   "metadata": {},
   "outputs": [
    {
     "data": {
      "text/plain": [
       "False"
      ]
     },
     "execution_count": 5,
     "metadata": {},
     "output_type": "execute_result"
    }
   ],
   "source": [
    "# Checking if the dataset still has duplicates\n",
    "data.duplicated().any()"
   ]
  },
  {
   "cell_type": "markdown",
   "metadata": {},
   "source": [
    "- No more duplicates"
   ]
  },
  {
   "cell_type": "markdown",
   "metadata": {},
   "source": [
    "# Data Preprocessing"
   ]
  },
  {
   "cell_type": "markdown",
   "metadata": {},
   "source": [
    "Checking the class imbalance"
   ]
  },
  {
   "cell_type": "code",
   "execution_count": 6,
   "metadata": {},
   "outputs": [
    {
     "data": {
      "image/png": "[encoded data removed]",
      "text/plain": [
       "<Figure size 640x480 with 1 Axes>"
      ]
     },
     "metadata": {},
     "output_type": "display_data"
    }
   ],
   "source": [
    "sns.countplot(x = 'PotentialFraud', data = data)\n",
    "plt.show()"
   ]
  },
  {
   "cell_type": "markdown",
   "metadata": {},
   "source": [
    "- As it can be observed in the count plot above, the target variable (PotentialFraud) is imbalanced."
   ]
  },
  {
   "cell_type": "code",
   "execution_count": 7,
   "metadata": {},
   "outputs": [
    {
     "name": "stdout",
     "output_type": "stream",
     "text": [
      "Proportion of minority/positive (fraud) class: 38.2%\n"
     ]
    }
   ],
   "source": [
    "# Proportion of the minority/positive (fraud) class\n",
    "print('Proportion of minority/positive (fraud) class: '\\\n",
    "     + str(round(data[data['PotentialFraud'] == 1].shape[0]/data.shape[0]*100, 1)) + '%')"
   ]
  },
  {
   "cell_type": "markdown",
   "metadata": {},
   "source": [
    "Preprocessing the original dataset"
   ]
  },
  {
   "cell_type": "code",
   "execution_count": 8,
   "metadata": {},
   "outputs": [],
   "source": [
    "# Feature selection\n",
    "# Defining input and target data\n",
    "x = data.drop('PotentialFraud', axis = 1) # input\n",
    "y = data['PotentialFraud'].values # Converting target values into numpy array"
   ]
  },
  {
   "cell_type": "code",
   "execution_count": 9,
   "metadata": {},
   "outputs": [],
   "source": [
    "# Splitting the original cleaned data into training (80%) and test (20%) sets\n",
    "# stratify = y, so the class imbalance's properly replicated in the training and test sets\n",
    "from sklearn.model_selection import train_test_split\n",
    "x_train, x_test, y_train, y_test = train_test_split(x, y, \n",
    "                                                    test_size = 0.2, \n",
    "                                                    random_state = 42,\n",
    "                                                    stratify = y)"
   ]
  },
  {
   "cell_type": "code",
   "execution_count": 10,
   "metadata": {},
   "outputs": [
    {
     "name": "stdout",
     "output_type": "stream",
     "text": [
      "Proportion of minority/positive (fraud) class in training set: 38.2%\n",
      "Proportion of minority/positive (fraud) class in test set: 38.2%\n"
     ]
    }
   ],
   "source": [
    "print('Proportion of minority/positive (fraud) class in training set: '\\\n",
    "    + str(round(y_train.sum()/len(y_train)*100, 1)) + '%')\n",
    "print('Proportion of minority/positive (fraud) class in test set: '\\\n",
    "    + str(round(y_test.sum()/len(y_test)*100, 1)) + '%')"
   ]
  },
  {
   "cell_type": "markdown",
   "metadata": {},
   "source": [
    "- The class imbalance is well replicated in the training and test sets"
   ]
  },
  {
   "cell_type": "code",
   "execution_count": 11,
   "metadata": {},
   "outputs": [],
   "source": [
    "# Standardization to help avoid outliers and improve model performance\n",
    "from sklearn.preprocessing import StandardScaler\n",
    "\n",
    "scaler = StandardScaler()\n",
    "x_train = scaler.fit_transform(x_train)\n",
    "x_test = scaler.transform(x_test)"
   ]
  },
  {
   "cell_type": "markdown",
   "metadata": {},
   "source": [
    "Sampling - upsampling and undersampling are carried out to handle class imbalance to improve model efficiency."
   ]
  },
  {
   "cell_type": "code",
   "execution_count": 12,
   "metadata": {},
   "outputs": [],
   "source": [
    "# Up-sampling \n",
    "# Up-sampling the minority class. The majority class is kept as it is, while observations in the minority class are duplicated\n",
    "# Importing resample library\n",
    "from sklearn.utils import resample\n",
    "\n",
    "# Defining majority and minority classes (fraud_0 = majority, fraud_1 = minority)\n",
    "fraud_0 = data.loc[data['PotentialFraud'] == 0]\n",
    "fraud_1 = data.loc[data['PotentialFraud'] == 1]\n",
    "\n",
    "upsampled_1 = resample(fraud_1, \n",
    "                       replace = True, # sampling with replacement\n",
    "                       n_samples = len(fraud_0), # matching number in majority class\n",
    "                       random_state = 42) \n",
    "\n",
    "# Combine majority and upsampled minority\n",
    "upsampled = pd.concat([fraud_0, upsampled_1], ignore_index = True)\n",
    "\n",
    "# preprocessing the upsampled datase\n",
    "x_ups = upsampled.drop(['PotentialFraud'], axis = 1)\n",
    "y_ups = upsampled['PotentialFraud'].values # converting target values to numpy array\n",
    "\n",
    "# splitting upsampled data into training and test sets\n",
    "x_train_ups, x_test_ups, y_train_ups, y_test_ups = train_test_split(x_ups, y_ups, \n",
    "                                                                    test_size = 0.2, \n",
    "                                                                    random_state = 42,\n",
    "                                                                    stratify = y_ups)\n",
    "\n",
    "# Standardizing upsampled inputs\n",
    "x_train_ups = scaler.fit_transform(x_train_ups)\n",
    "x_test_ups = scaler.transform(x_test_ups)"
   ]
  },
  {
   "cell_type": "code",
   "execution_count": 13,
   "metadata": {},
   "outputs": [],
   "source": [
    "# Under-sampling \n",
    "# Picking out some instances from the majority class until the required sampling ratio is achieved.\n",
    "undsampled_0 = resample(fraud_0, \n",
    "                        replace = True, # sampling with replacement\n",
    "                        n_samples = len(fraud_1), # matching number in minority class\n",
    "                        random_state = 42) \n",
    "\n",
    "# Combine majority and undersampled minority\n",
    "undsampled = pd.concat([undsampled_0, fraud_1], ignore_index = True)\n",
    "\n",
    "# preprocessing the undersampled datase\n",
    "x_und = undsampled.drop(['PotentialFraud'], axis = 1)\n",
    "y_und = undsampled['PotentialFraud'].values # converting target values to numpy array\n",
    "\n",
    "# splitting undersampled data into training and test sets\n",
    "x_train_und, x_test_und, y_train_und, y_test_und = train_test_split(x_und, y_und, \n",
    "                                                                    test_size = 0.2, \n",
    "                                                                    random_state = 42,\n",
    "                                                                    stratify = y_und)\n",
    "\n",
    "# Standardizing undersampled inputs\n",
    "x_train_und = scaler.fit_transform(x_train_und)\n",
    "x_test_und = scaler.transform(x_test_und)"
   ]
  },
  {
   "cell_type": "markdown",
   "metadata": {},
   "source": [
    "# Model Building, Training and Evaluation"
   ]
  },
  {
   "cell_type": "code",
   "execution_count": 14,
   "metadata": {},
   "outputs": [],
   "source": [
    "# model1 = Logistic Regression model\n",
    "# Importing necessary libraries\n",
    "from sklearn.linear_model import LogisticRegression\n",
    "\n",
    "# Creating and training Logistic Regression model\n",
    "model1 = LogisticRegression()\n",
    "model1.fit(x_train, y_train) # model training\n",
    "\n",
    "# Model predictions on the test set\n",
    "model1_pred = model1.predict(x_test)"
   ]
  },
  {
   "cell_type": "markdown",
   "metadata": {},
   "source": [
    "Model evaluation:\n",
    "- Accuracy metric is not a good evaluation metric when it comes to this health insurance claims fraud detection problem, because it only accounts for true positives (TP) and true negatives (TN), and does not look at what the model has not done correctly. It only looks at what the model has done correctly.\n",
    "- Precision and Recall are better because they take into account what the model has not done correctly."
   ]
  },
  {
   "cell_type": "markdown",
   "metadata": {},
   "source": [
    "Precision - represents the number of predicted positives that are actually positive. Takes into account the number of records that the model incorrectly tagged.\n",
    "- = TP/(TP + FP)"
   ]
  },
  {
   "cell_type": "markdown",
   "metadata": {},
   "source": [
    "Recall - represents the number of positives that are correctly predicted, out of the total number of positives. Takes into account the number of records that the model failed to tag at all.\n",
    "- = TP/(TP + FN)"
   ]
  },
  {
   "cell_type": "markdown",
   "metadata": {},
   "source": [
    "F1-Score - represents a moderate balance between precision and recall, considering both false positives and false negatives. Optimizing the F1-Score can help achieve an optimal model.\n",
    "- = (2 * Precision * Recall)/ (Precision + Recall)"
   ]
  },
  {
   "cell_type": "code",
   "execution_count": 15,
   "metadata": {},
   "outputs": [
    {
     "name": "stdout",
     "output_type": "stream",
     "text": [
      "model1 accuracy on train set: 64.3%\n",
      "model1 accuracy on test set: 64.3%\n"
     ]
    },
    {
     "data": {
      "image/png": "[encoded data removed]",
      "text/plain": [
       "<Figure size 500x500 with 1 Axes>"
      ]
     },
     "metadata": {},
     "output_type": "display_data"
    }
   ],
   "source": [
    "# Logistic regression (model1) model evaluation\n",
    "# Checking the Model Accuracy and comparing it to Precision, Recall and F1_Score\n",
    "# Importing necessary libraries\n",
    "from sklearn.metrics import accuracy_score, confusion_matrix, precision_score, recall_score, f1_score\n",
    "\n",
    "print('model1 accuracy on train set: {:.1f}%'.format(round(accuracy_score(y_train, model1.predict(x_train))*100, 1)))\n",
    "print('model1 accuracy on test set: {:.1f}%'.format(round(accuracy_score(y_test, model1_pred)*100, 1)))\n",
    "\n",
    "# Confusion matrix\n",
    "conf_matrix = confusion_matrix(y_true = y_test, y_pred = model1_pred)\n",
    "fig, ax = plt.subplots(figsize = (5, 5))\n",
    "ax.matshow(conf_matrix, cmap = plt.cm.Accent, alpha = 0.4)\n",
    "for i in range(conf_matrix.shape[0]):\n",
    "    for j in range(conf_matrix.shape[1]):\n",
    "        ax.text(x = j, y = i, s = conf_matrix[i, j],\n",
    "                va = 'center', ha = 'center', size = 'x-large')\n",
    "\n",
    "plt.xlabel('Prediction', fontsize = 8)\n",
    "plt.ylabel('Actual', fontsize = 8)\n",
    "plt.title('Confusion Matrix', fontsize = 10)\n",
    "plt.show()"
   ]
  },
  {
   "cell_type": "markdown",
   "metadata": {},
   "source": [
    "- The intersection of minority (positive) class prediction (1, 1) represents how well the model is performing.\n",
    "- Out of 42389 minority class records, only 5629 are predicted correctly. 2853 of 68713 majority (negative) class records are predicted incorrectly. That's not a great performance by the model."
   ]
  },
  {
   "cell_type": "code",
   "execution_count": 16,
   "metadata": {},
   "outputs": [
    {
     "data": {
      "text/html": [
       "<div>\n",
       "<style scoped>\n",
       "    .dataframe tbody tr th:only-of-type {\n",
       "        vertical-align: middle;\n",
       "    }\n",
       "\n",
       "    .dataframe tbody tr th {\n",
       "        vertical-align: top;\n",
       "    }\n",
       "\n",
       "    .dataframe thead th {\n",
       "        text-align: right;\n",
       "    }\n",
       "</style>\n",
       "<table border=\"1\" class=\"dataframe\">\n",
       "  <thead>\n",
       "    <tr style=\"text-align: right;\">\n",
       "      <th></th>\n",
       "      <th>Original Dataset</th>\n",
       "    </tr>\n",
       "  </thead>\n",
       "  <tbody>\n",
       "    <tr>\n",
       "      <th>Precision</th>\n",
       "      <td>0.66</td>\n",
       "    </tr>\n",
       "    <tr>\n",
       "      <th>Recall</th>\n",
       "      <td>0.13</td>\n",
       "    </tr>\n",
       "    <tr>\n",
       "      <th>F1-Score</th>\n",
       "      <td>0.22</td>\n",
       "    </tr>\n",
       "  </tbody>\n",
       "</table>\n",
       "</div>"
      ],
      "text/plain": [
       "           Original Dataset\n",
       "Precision              0.66\n",
       "Recall                 0.13\n",
       "F1-Score               0.22"
      ]
     },
     "execution_count": 16,
     "metadata": {},
     "output_type": "execute_result"
    }
   ],
   "source": [
    "# Precision, Recall and F1-Score\n",
    "Precision = round(precision_score(y_test, model1_pred), 2)\n",
    "Recall = round(recall_score(y_test, model1_pred), 2)\n",
    "F1_Score = round(f1_score(y_test, model1_pred), 2)\n",
    "Metrics = [Precision, Recall, F1_Score]\n",
    "\n",
    "Original = pd.DataFrame(Metrics)\n",
    "Original.index = ['Precision', 'Recall', 'F1-Score']\n",
    "Original.columns = ['Original Dataset']\n",
    "Original"
   ]
  },
  {
   "cell_type": "markdown",
   "metadata": {},
   "source": [
    "- Only 13% of the potentially fraudulent insurance claims are detected by the model. This implies that the model misses a significant number of actual positive (fraudulent) cases.\n",
    "- Out of all the positive (fraudulent) predictions, only 66% are actually positive (fraudulent). This implies that the model is only correct about 66% of the time when detecting positive (fraudulent) cases.\n",
    "- Therefore, the model needs improvement, especially in capturing more true positive (fraudulent) cases. This is because the model's efficiency depends on the model being able to detect the positive class correctly, i.e, detecting how more likely an insurance claim is fraudulent than not fraudulent."
   ]
  },
  {
   "cell_type": "markdown",
   "metadata": {},
   "source": [
    "Improving the Logistic Regression Model's efficiency"
   ]
  },
  {
   "cell_type": "markdown",
   "metadata": {},
   "source": [
    "1. Changing the prediction threshold\n",
    "- Iterating over a series of values ranging from 0.1 to 0.75 to identify the threshold which performs the best."
   ]
  },
  {
   "cell_type": "code",
   "execution_count": 17,
   "metadata": {},
   "outputs": [
    {
     "data": {
      "text/html": [
       "<div>\n",
       "<style scoped>\n",
       "    .dataframe tbody tr th:only-of-type {\n",
       "        vertical-align: middle;\n",
       "    }\n",
       "\n",
       "    .dataframe tbody tr th {\n",
       "        vertical-align: top;\n",
       "    }\n",
       "\n",
       "    .dataframe thead th {\n",
       "        text-align: right;\n",
       "    }\n",
       "</style>\n",
       "<table border=\"1\" class=\"dataframe\">\n",
       "  <thead>\n",
       "    <tr style=\"text-align: right;\">\n",
       "      <th>Metrics</th>\n",
       "      <th>Precision</th>\n",
       "      <th>Recall</th>\n",
       "      <th>F1-Score</th>\n",
       "    </tr>\n",
       "  </thead>\n",
       "  <tbody>\n",
       "    <tr>\n",
       "      <th>Original</th>\n",
       "      <td>0.66</td>\n",
       "      <td>0.13</td>\n",
       "      <td>0.22</td>\n",
       "    </tr>\n",
       "    <tr>\n",
       "      <th>Threshold:0.05</th>\n",
       "      <td>0.38</td>\n",
       "      <td>1.0</td>\n",
       "      <td>0.55</td>\n",
       "    </tr>\n",
       "    <tr>\n",
       "      <th>Threshold:0.1</th>\n",
       "      <td>0.38</td>\n",
       "      <td>1.0</td>\n",
       "      <td>0.55</td>\n",
       "    </tr>\n",
       "    <tr>\n",
       "      <th>Threshold:0.15</th>\n",
       "      <td>0.38</td>\n",
       "      <td>1.0</td>\n",
       "      <td>0.55</td>\n",
       "    </tr>\n",
       "    <tr>\n",
       "      <th>Threshold:0.2</th>\n",
       "      <td>0.38</td>\n",
       "      <td>1.0</td>\n",
       "      <td>0.55</td>\n",
       "    </tr>\n",
       "    <tr>\n",
       "      <th>Threshold:0.25</th>\n",
       "      <td>0.39</td>\n",
       "      <td>0.99</td>\n",
       "      <td>0.55</td>\n",
       "    </tr>\n",
       "    <tr>\n",
       "      <th>Threshold:0.3</th>\n",
       "      <td>0.41</td>\n",
       "      <td>0.86</td>\n",
       "      <td>0.56</td>\n",
       "    </tr>\n",
       "    <tr>\n",
       "      <th>Threshold:0.35</th>\n",
       "      <td>0.41</td>\n",
       "      <td>0.83</td>\n",
       "      <td>0.55</td>\n",
       "    </tr>\n",
       "    <tr>\n",
       "      <th>Threshold:0.4</th>\n",
       "      <td>0.5</td>\n",
       "      <td>0.38</td>\n",
       "      <td>0.43</td>\n",
       "    </tr>\n",
       "    <tr>\n",
       "      <th>Threshold:0.45</th>\n",
       "      <td>0.62</td>\n",
       "      <td>0.17</td>\n",
       "      <td>0.27</td>\n",
       "    </tr>\n",
       "    <tr>\n",
       "      <th>Threshold:0.5</th>\n",
       "      <td>0.66</td>\n",
       "      <td>0.13</td>\n",
       "      <td>0.22</td>\n",
       "    </tr>\n",
       "    <tr>\n",
       "      <th>Threshold:0.55</th>\n",
       "      <td>0.67</td>\n",
       "      <td>0.13</td>\n",
       "      <td>0.21</td>\n",
       "    </tr>\n",
       "    <tr>\n",
       "      <th>Threshold:0.6</th>\n",
       "      <td>0.72</td>\n",
       "      <td>0.09</td>\n",
       "      <td>0.16</td>\n",
       "    </tr>\n",
       "    <tr>\n",
       "      <th>Threshold:0.65</th>\n",
       "      <td>0.9</td>\n",
       "      <td>0.05</td>\n",
       "      <td>0.09</td>\n",
       "    </tr>\n",
       "    <tr>\n",
       "      <th>Threshold:0.7</th>\n",
       "      <td>1.0</td>\n",
       "      <td>0.04</td>\n",
       "      <td>0.08</td>\n",
       "    </tr>\n",
       "    <tr>\n",
       "      <th>Threshold:0.75</th>\n",
       "      <td>1.0</td>\n",
       "      <td>0.04</td>\n",
       "      <td>0.08</td>\n",
       "    </tr>\n",
       "  </tbody>\n",
       "</table>\n",
       "</div>"
      ],
      "text/plain": [
       "Metrics        Precision Recall F1-Score\n",
       "Original            0.66   0.13     0.22\n",
       "Threshold:0.05      0.38    1.0     0.55\n",
       "Threshold:0.1       0.38    1.0     0.55\n",
       "Threshold:0.15      0.38    1.0     0.55\n",
       "Threshold:0.2       0.38    1.0     0.55\n",
       "Threshold:0.25      0.39   0.99     0.55\n",
       "Threshold:0.3       0.41   0.86     0.56\n",
       "Threshold:0.35      0.41   0.83     0.55\n",
       "Threshold:0.4        0.5   0.38     0.43\n",
       "Threshold:0.45      0.62   0.17     0.27\n",
       "Threshold:0.5       0.66   0.13     0.22\n",
       "Threshold:0.55      0.67   0.13     0.21\n",
       "Threshold:0.6       0.72   0.09     0.16\n",
       "Threshold:0.65       0.9   0.05     0.09\n",
       "Threshold:0.7        1.0   0.04     0.08\n",
       "Threshold:0.75       1.0   0.04     0.08"
      ]
     },
     "execution_count": 17,
     "metadata": {},
     "output_type": "execute_result"
    }
   ],
   "source": [
    "cols = ['Metrics', 'Original']\n",
    "adj_threshold = pd.DataFrame()\n",
    "adj_threshold['Original'] = Metrics\n",
    "thresholds = [j/20 for j in range(1, 16)]\n",
    "for i in thresholds:\n",
    "    model1_new_threshold = (model1.predict_proba(x_test)[:, 1] >= i).astype(int)\n",
    "    Precision_adj_threshold = round(precision_score(y_test, model1_new_threshold, average = 'binary'), 2)\n",
    "    Recall_adj_threshold = round(recall_score(y_test, model1_new_threshold, average = 'binary'), 2)\n",
    "    F1_SCore_adj_threshold = round(f1_score(y_test, model1_new_threshold, average = 'binary'), 2)\n",
    "    Metrics_adj_threshold = [Precision_adj_threshold, Recall_adj_threshold, F1_SCore_adj_threshold]\n",
    "    name = 'Threshold:' + str(i)\n",
    "    adj_threshold[name] = Metrics_adj_threshold\n",
    "    cols.append(name)\n",
    "\n",
    "adj_threshold.index = ['Precision', 'Recall', 'F1-Score']\n",
    "adj_threshold = adj_threshold.reset_index()\n",
    "adj_threshold.columns = cols\n",
    "adj_threshold.transpose()\n",
    "\n",
    "adj_threshold1 = adj_threshold.transpose().iloc[1:, :]\n",
    "adj_threshold1.columns = adj_threshold.iloc[:, 0]\n",
    "adj_threshold1"
   ]
  },
  {
   "cell_type": "code",
   "execution_count": 18,
   "metadata": {},
   "outputs": [
    {
     "data": {
      "text/plain": [
       "<matplotlib.legend.Legend at 0x2b3145b2350>"
      ]
     },
     "execution_count": 18,
     "metadata": {},
     "output_type": "execute_result"
    },
    {
     "data": {
      "image/png": "[encoded data removed]",
      "text/plain": [
       "<Figure size 1500x500 with 1 Axes>"
      ]
     },
     "metadata": {},
     "output_type": "display_data"
    }
   ],
   "source": [
    "# Plotting the metrics\n",
    "adj_threshold.plot(x = 'Metrics',\n",
    "                   kind = 'bar',\n",
    "                   stacked = False,\n",
    "                   title = 'Metrics across varying thresholds',\n",
    "                   figsize = (15, 5),\n",
    "                   cmap = 'twilight').legend(loc = 'center left', bbox_to_anchor = (1.0, 0.5))"
   ]
  },
  {
   "cell_type": "markdown",
   "metadata": {},
   "source": [
    "- Working with an optimal F1-Score is the most preferred approach, since precision and recall cannot be simultaneously optimized as one can increase the granularity of the thresholds to determine the optimal one.\n",
    "- Optimal F1-Score in this case is at threshold of 0.3."
   ]
  },
  {
   "cell_type": "markdown",
   "metadata": {},
   "source": [
    "New model prediction with optimal threshold"
   ]
  },
  {
   "cell_type": "code",
   "execution_count": 19,
   "metadata": {},
   "outputs": [
    {
     "data": {
      "image/png": "[encoded data removed]",
      "text/plain": [
       "<Figure size 500x500 with 1 Axes>"
      ]
     },
     "metadata": {},
     "output_type": "display_data"
    }
   ],
   "source": [
    "# Model prediction with threshold at 0.3\n",
    "model1_pred_new_threshold = (model1.predict_proba(x_test)[:, 1] >= 0.3).astype(int)\n",
    "\n",
    "# Confusion matrix\n",
    "conf_matrix = confusion_matrix(y_true = y_test, y_pred = model1_pred_new_threshold)\n",
    "fig, ax = plt.subplots(figsize = (5, 5))\n",
    "ax.matshow(conf_matrix, cmap = plt.cm.Accent, alpha = 0.4)\n",
    "for i in range(conf_matrix.shape[0]):\n",
    "    for j in range(conf_matrix.shape[1]):\n",
    "        ax.text(x = j, y = i, s = conf_matrix[i, j],\n",
    "                va = 'center', ha = 'center', size = 'x-large')\n",
    "\n",
    "plt.xlabel('Prediction', fontsize = 8)\n",
    "plt.ylabel('Actual', fontsize = 8)\n",
    "plt.title('Confusion Matrix', fontsize = 10)\n",
    "plt.show()"
   ]
  },
  {
   "cell_type": "markdown",
   "metadata": {},
   "source": [
    "- The confusion matrix looks better this time. Out of 42389 minority class records, 36646 are predicted correctly this time. The model has improved in capturing more true positives."
   ]
  },
  {
   "cell_type": "code",
   "execution_count": 20,
   "metadata": {},
   "outputs": [
    {
     "data": {
      "text/html": [
       "<div>\n",
       "<style scoped>\n",
       "    .dataframe tbody tr th:only-of-type {\n",
       "        vertical-align: middle;\n",
       "    }\n",
       "\n",
       "    .dataframe tbody tr th {\n",
       "        vertical-align: top;\n",
       "    }\n",
       "\n",
       "    .dataframe thead th {\n",
       "        text-align: right;\n",
       "    }\n",
       "</style>\n",
       "<table border=\"1\" class=\"dataframe\">\n",
       "  <thead>\n",
       "    <tr style=\"text-align: right;\">\n",
       "      <th></th>\n",
       "      <th>Original Dataset</th>\n",
       "      <th>New Threshold Dataset</th>\n",
       "    </tr>\n",
       "  </thead>\n",
       "  <tbody>\n",
       "    <tr>\n",
       "      <th>Precision</th>\n",
       "      <td>0.66</td>\n",
       "      <td>0.41</td>\n",
       "    </tr>\n",
       "    <tr>\n",
       "      <th>Recall</th>\n",
       "      <td>0.13</td>\n",
       "      <td>0.86</td>\n",
       "    </tr>\n",
       "    <tr>\n",
       "      <th>F1-Score</th>\n",
       "      <td>0.22</td>\n",
       "      <td>0.56</td>\n",
       "    </tr>\n",
       "  </tbody>\n",
       "</table>\n",
       "</div>"
      ],
      "text/plain": [
       "           Original Dataset  New Threshold Dataset\n",
       "Precision              0.66                   0.41\n",
       "Recall                 0.13                   0.86\n",
       "F1-Score               0.22                   0.56"
      ]
     },
     "execution_count": 20,
     "metadata": {},
     "output_type": "execute_result"
    }
   ],
   "source": [
    "# Precision, Recall and F1-Score of new model1 prediction with optimal threshold\n",
    "Precision_newthreshold = round(precision_score(y_test, model1_pred_new_threshold), 2)\n",
    "Recall_newthreshold = round(recall_score(y_test, model1_pred_new_threshold), 2)\n",
    "F1_Score_newthreshold = round(f1_score(y_test, model1_pred_new_threshold), 2)\n",
    "Metrics_newthreshold = [Precision_newthreshold, Recall_newthreshold, F1_Score_newthreshold]\n",
    "\n",
    "newthreshold = pd.DataFrame(list(zip(Metrics, Metrics_newthreshold)))\n",
    "newthreshold.index = ['Precision', 'Recall', 'F1-Score']\n",
    "newthreshold.columns = ['Original Dataset', 'New Threshold Dataset']\n",
    "newthreshold"
   ]
  },
  {
   "cell_type": "markdown",
   "metadata": {},
   "source": [
    "Up-sampling"
   ]
  },
  {
   "cell_type": "code",
   "execution_count": 21,
   "metadata": {},
   "outputs": [],
   "source": [
    "# Model1 training on upsampled data\n",
    "model1_ups = LogisticRegression()\n",
    "model1_ups.fit(x_train_ups, y_train_ups) # model1 training\n",
    "\n",
    "# Model1 predictions on the test set\n",
    "model1_ups_pred = model1_ups.predict(x_test_ups)"
   ]
  },
  {
   "cell_type": "code",
   "execution_count": 22,
   "metadata": {},
   "outputs": [
    {
     "data": {
      "image/png": "[encoded data removed]",
      "text/plain": [
       "<Figure size 500x500 with 1 Axes>"
      ]
     },
     "metadata": {},
     "output_type": "display_data"
    }
   ],
   "source": [
    "# Confusion matrix\n",
    "conf_matrix = confusion_matrix(y_true = y_test_ups, y_pred = model1_ups_pred)\n",
    "fig, ax = plt.subplots(figsize = (5, 5))\n",
    "ax.matshow(conf_matrix, cmap = plt.cm.Accent, alpha = 0.4)\n",
    "for i in range(conf_matrix.shape[0]):\n",
    "    for j in range(conf_matrix.shape[1]):\n",
    "        ax.text(x = j, y = i, s = conf_matrix[i, j],\n",
    "                va = 'center', ha = 'center', size = 'x-large')\n",
    "\n",
    "plt.xlabel('Prediction', fontsize = 8)\n",
    "plt.ylabel('Actual', fontsize = 8)\n",
    "plt.title('Confusion Matrix', fontsize = 10)\n",
    "plt.show()"
   ]
  },
  {
   "cell_type": "code",
   "execution_count": 23,
   "metadata": {},
   "outputs": [
    {
     "data": {
      "text/html": [
       "<div>\n",
       "<style scoped>\n",
       "    .dataframe tbody tr th:only-of-type {\n",
       "        vertical-align: middle;\n",
       "    }\n",
       "\n",
       "    .dataframe tbody tr th {\n",
       "        vertical-align: top;\n",
       "    }\n",
       "\n",
       "    .dataframe thead th {\n",
       "        text-align: right;\n",
       "    }\n",
       "</style>\n",
       "<table border=\"1\" class=\"dataframe\">\n",
       "  <thead>\n",
       "    <tr style=\"text-align: right;\">\n",
       "      <th></th>\n",
       "      <th>Original Dataset</th>\n",
       "      <th>Threshold = 0.3</th>\n",
       "      <th>Up-sampled Dataset</th>\n",
       "    </tr>\n",
       "  </thead>\n",
       "  <tbody>\n",
       "    <tr>\n",
       "      <th>Precision</th>\n",
       "      <td>0.66</td>\n",
       "      <td>0.41</td>\n",
       "      <td>0.61</td>\n",
       "    </tr>\n",
       "    <tr>\n",
       "      <th>Recall</th>\n",
       "      <td>0.13</td>\n",
       "      <td>0.86</td>\n",
       "      <td>0.41</td>\n",
       "    </tr>\n",
       "    <tr>\n",
       "      <th>F1-Score</th>\n",
       "      <td>0.22</td>\n",
       "      <td>0.56</td>\n",
       "      <td>0.49</td>\n",
       "    </tr>\n",
       "  </tbody>\n",
       "</table>\n",
       "</div>"
      ],
      "text/plain": [
       "           Original Dataset  Threshold = 0.3  Up-sampled Dataset\n",
       "Precision              0.66             0.41                0.61\n",
       "Recall                 0.13             0.86                0.41\n",
       "F1-Score               0.22             0.56                0.49"
      ]
     },
     "execution_count": 23,
     "metadata": {},
     "output_type": "execute_result"
    }
   ],
   "source": [
    "# Model1 Precision, Recall and F1-Score on upsampled data\n",
    "Precision_ups = round(precision_score(y_test_ups, model1_ups_pred), 2)\n",
    "Recall_ups = round(recall_score(y_test_ups, model1_ups_pred), 2)\n",
    "F1_Score_ups = round(f1_score(y_test_ups, model1_ups_pred), 2)\n",
    "Metrics_ups = [Precision_ups, Recall_ups, F1_Score_ups]\n",
    "\n",
    "up_sampled = pd.DataFrame(list(zip(Metrics, Metrics_newthreshold, Metrics_ups)))\n",
    "up_sampled.index = ['Precision', 'Recall', 'F1-Score']\n",
    "up_sampled.columns = ['Original Dataset', 'Threshold = 0.3', 'Up-sampled Dataset']\n",
    "up_sampled\n"
   ]
  },
  {
   "cell_type": "markdown",
   "metadata": {},
   "source": [
    "Under-sampling"
   ]
  },
  {
   "cell_type": "code",
   "execution_count": 24,
   "metadata": {},
   "outputs": [],
   "source": [
    "# Model1 training on undersampled data\n",
    "model1_down = LogisticRegression()\n",
    "model1_down.fit(x_train_und, y_train_und) # model training\n",
    "\n",
    "# Model1 predictions on the test set\n",
    "model1_down_pred = model1_down.predict(x_test_und)"
   ]
  },
  {
   "cell_type": "code",
   "execution_count": 25,
   "metadata": {},
   "outputs": [
    {
     "data": {
      "image/png": "[encoded data removed]",
      "text/plain": [
       "<Figure size 500x500 with 1 Axes>"
      ]
     },
     "metadata": {},
     "output_type": "display_data"
    }
   ],
   "source": [
    "# Confusion matrix\n",
    "conf_matrix = confusion_matrix(y_true = y_test_und, y_pred = model1_down_pred)\n",
    "fig, ax = plt.subplots(figsize = (5, 5))\n",
    "ax.matshow(conf_matrix, cmap = plt.cm.Accent, alpha = 0.4)\n",
    "for i in range(conf_matrix.shape[0]):\n",
    "    for j in range(conf_matrix.shape[1]):\n",
    "        ax.text(x = j, y = i, s = conf_matrix[i, j],\n",
    "                va = 'center', ha = 'center', size = 'x-large')\n",
    "\n",
    "plt.xlabel('Prediction', fontsize = 8)\n",
    "plt.ylabel('Actual', fontsize = 8)\n",
    "plt.title('Confusion Matrix', fontsize = 10)\n",
    "plt.show()"
   ]
  },
  {
   "cell_type": "code",
   "execution_count": 26,
   "metadata": {},
   "outputs": [
    {
     "data": {
      "text/html": [
       "<div>\n",
       "<style scoped>\n",
       "    .dataframe tbody tr th:only-of-type {\n",
       "        vertical-align: middle;\n",
       "    }\n",
       "\n",
       "    .dataframe tbody tr th {\n",
       "        vertical-align: top;\n",
       "    }\n",
       "\n",
       "    .dataframe thead th {\n",
       "        text-align: right;\n",
       "    }\n",
       "</style>\n",
       "<table border=\"1\" class=\"dataframe\">\n",
       "  <thead>\n",
       "    <tr style=\"text-align: right;\">\n",
       "      <th></th>\n",
       "      <th>Original Dataset</th>\n",
       "      <th>Threshold = 0.3</th>\n",
       "      <th>Up-sampled Dataset</th>\n",
       "      <th>Down-sampled Dataset</th>\n",
       "    </tr>\n",
       "  </thead>\n",
       "  <tbody>\n",
       "    <tr>\n",
       "      <th>Precision</th>\n",
       "      <td>0.66</td>\n",
       "      <td>0.41</td>\n",
       "      <td>0.61</td>\n",
       "      <td>0.61</td>\n",
       "    </tr>\n",
       "    <tr>\n",
       "      <th>Recall</th>\n",
       "      <td>0.13</td>\n",
       "      <td>0.86</td>\n",
       "      <td>0.41</td>\n",
       "      <td>0.42</td>\n",
       "    </tr>\n",
       "    <tr>\n",
       "      <th>F1-Score</th>\n",
       "      <td>0.22</td>\n",
       "      <td>0.56</td>\n",
       "      <td>0.49</td>\n",
       "      <td>0.49</td>\n",
       "    </tr>\n",
       "  </tbody>\n",
       "</table>\n",
       "</div>"
      ],
      "text/plain": [
       "           Original Dataset  Threshold = 0.3  Up-sampled Dataset  \\\n",
       "Precision              0.66             0.41                0.61   \n",
       "Recall                 0.13             0.86                0.41   \n",
       "F1-Score               0.22             0.56                0.49   \n",
       "\n",
       "           Down-sampled Dataset  \n",
       "Precision                  0.61  \n",
       "Recall                     0.42  \n",
       "F1-Score                   0.49  "
      ]
     },
     "execution_count": 26,
     "metadata": {},
     "output_type": "execute_result"
    }
   ],
   "source": [
    "# Model1 Precision, Recall and F1-Score on downsampled data\n",
    "Precision_down = round(precision_score(y_test_und, model1_down_pred), 2)\n",
    "Recall_down = round(recall_score(y_test_und, model1_down_pred), 2)\n",
    "F1_Score_down = round(f1_score(y_test_und, model1_down_pred), 2)\n",
    "Metrics_down = [Precision_down, Recall_down, F1_Score_down]\n",
    "\n",
    "down_sampled = pd.DataFrame(list(zip(Metrics, Metrics_newthreshold, Metrics_ups, Metrics_down)))\n",
    "down_sampled.index = ['Precision', 'Recall', 'F1-Score']\n",
    "down_sampled.columns = ['Original Dataset', 'Threshold = 0.3', 'Up-sampled Dataset', 'Down-sampled Dataset']\n",
    "down_sampled"
   ]
  },
  {
   "cell_type": "markdown",
   "metadata": {},
   "source": [
    "- Logistic Regression model gives a better performance when the prediction threshold is set at 0.3. It has the highest recall (86%) at threshold = 0.3, implying that 86% of the potentially fraudulent health insurance claims are detected by the model."
   ]
  },
  {
   "cell_type": "code",
   "execution_count": 27,
   "metadata": {},
   "outputs": [],
   "source": [
    "# model2 - Random Forest Classifier\n",
    "# Importing RandomForestClassifier library\n",
    "from sklearn.ensemble import RandomForestClassifier\n",
    "\n",
    "# Creating and training the Random Forest model\n",
    "# n_estimators set at 70\n",
    "model2 = RandomForestClassifier(\n",
    "    criterion = 'entropy',\n",
    "    max_depth = 4,\n",
    "    max_features = 'sqrt',\n",
    "    min_samples_leaf = 1,\n",
    "    min_samples_split = 3,\n",
    "    n_estimators = 70\n",
    ")\n",
    "model2.fit(x_train, y_train)  # model2 training\n",
    "\n",
    "# Model2 predictions on the test set\n",
    "model2_pred = model2.predict(x_test)"
   ]
  },
  {
   "cell_type": "code",
   "execution_count": 28,
   "metadata": {},
   "outputs": [
    {
     "name": "stdout",
     "output_type": "stream",
     "text": [
      "model1 accuracy on train set: 64.2%\n",
      "model1 accuracy on test set: 64.3%\n"
     ]
    },
    {
     "data": {
      "image/png": "[encoded data removed]",
      "text/plain": [
       "<Figure size 500x500 with 1 Axes>"
      ]
     },
     "metadata": {},
     "output_type": "display_data"
    }
   ],
   "source": [
    "# Random Forest Classifier (model2) evaluation\n",
    "# Checking the Model Accuracy and comparing it to Precision, Recall and F1_Score\n",
    "print('model1 accuracy on train set: {:.1f}%'.format(round(accuracy_score(y_train, model2.predict(x_train))*100, 1)))\n",
    "print('model1 accuracy on test set: {:.1f}%'.format(round(accuracy_score(y_test, model2_pred)*100, 1)))\n",
    "\n",
    "# Confusion matrix\n",
    "conf_matrix = confusion_matrix(y_true = y_test, y_pred = model2_pred)\n",
    "fig, ax = plt.subplots(figsize = (5, 5))\n",
    "ax.matshow(conf_matrix, cmap = plt.cm.Accent, alpha = 0.4)\n",
    "for i in range(conf_matrix.shape[0]):\n",
    "    for j in range(conf_matrix.shape[1]):\n",
    "        ax.text(x = j, y = i, s = conf_matrix[i, j],\n",
    "                va = 'center', ha = 'center', size = 'x-large')\n",
    "\n",
    "plt.xlabel('Prediction', fontsize = 8)\n",
    "plt.ylabel('Actual', fontsize = 8)\n",
    "plt.title('Confusion Matrix', fontsize = 10)\n",
    "plt.show()"
   ]
  },
  {
   "cell_type": "markdown",
   "metadata": {},
   "source": [
    "- Out of 42389 minority (positive) class records, only 5886 are predicted correctly. That's not a great performance by the model."
   ]
  },
  {
   "cell_type": "code",
   "execution_count": 29,
   "metadata": {},
   "outputs": [
    {
     "data": {
      "text/html": [
       "<div>\n",
       "<style scoped>\n",
       "    .dataframe tbody tr th:only-of-type {\n",
       "        vertical-align: middle;\n",
       "    }\n",
       "\n",
       "    .dataframe tbody tr th {\n",
       "        vertical-align: top;\n",
       "    }\n",
       "\n",
       "    .dataframe thead th {\n",
       "        text-align: right;\n",
       "    }\n",
       "</style>\n",
       "<table border=\"1\" class=\"dataframe\">\n",
       "  <thead>\n",
       "    <tr style=\"text-align: right;\">\n",
       "      <th></th>\n",
       "      <th>Original Dataset</th>\n",
       "    </tr>\n",
       "  </thead>\n",
       "  <tbody>\n",
       "    <tr>\n",
       "      <th>Precision</th>\n",
       "      <td>0.65</td>\n",
       "    </tr>\n",
       "    <tr>\n",
       "      <th>Recall</th>\n",
       "      <td>0.14</td>\n",
       "    </tr>\n",
       "    <tr>\n",
       "      <th>F1-Score</th>\n",
       "      <td>0.23</td>\n",
       "    </tr>\n",
       "  </tbody>\n",
       "</table>\n",
       "</div>"
      ],
      "text/plain": [
       "           Original Dataset\n",
       "Precision              0.65\n",
       "Recall                 0.14\n",
       "F1-Score               0.23"
      ]
     },
     "execution_count": 29,
     "metadata": {},
     "output_type": "execute_result"
    }
   ],
   "source": [
    "# Precision, Recall and F1-Score of Random Forest Classifier\n",
    "Precision_2 = round(precision_score(y_test, model2_pred), 2)\n",
    "Recall_2 = round(recall_score(y_test, model2_pred), 2)\n",
    "F1_Score_2 = round(f1_score(y_test, model2_pred), 2)\n",
    "Metrics_2 = [Precision_2, Recall_2, F1_Score_2]\n",
    "\n",
    "Original_2 = pd.DataFrame(Metrics_2)\n",
    "Original_2.index = ['Precision', 'Recall', 'F1-Score']\n",
    "Original_2.columns = ['Original Dataset']\n",
    "Original_2"
   ]
  },
  {
   "cell_type": "markdown",
   "metadata": {},
   "source": [
    "- Only 14% of the potentially fraudulent insurance claims are detected by the Random Forest Classifier. This implies that the model misses a significant number of actual positive (fraudulent) cases.\n",
    "- Out of all the positive (fraudulent) predictions, only 65% are actually positive (fraudulent). This implies that the model is only correct about 65% of the time when detecting positive (fraudulent) cases."
   ]
  },
  {
   "cell_type": "markdown",
   "metadata": {},
   "source": [
    "Improving the Random Forest Classifier efficiency"
   ]
  },
  {
   "cell_type": "markdown",
   "metadata": {},
   "source": [
    "Changing the prediction threshold\n",
    "- Iterating over a series of values ranging from 0.1 to 0.75 to identify the threshold which performs the best."
   ]
  },
  {
   "cell_type": "code",
   "execution_count": 30,
   "metadata": {},
   "outputs": [
    {
     "data": {
      "text/html": [
       "<div>\n",
       "<style scoped>\n",
       "    .dataframe tbody tr th:only-of-type {\n",
       "        vertical-align: middle;\n",
       "    }\n",
       "\n",
       "    .dataframe tbody tr th {\n",
       "        vertical-align: top;\n",
       "    }\n",
       "\n",
       "    .dataframe thead th {\n",
       "        text-align: right;\n",
       "    }\n",
       "</style>\n",
       "<table border=\"1\" class=\"dataframe\">\n",
       "  <thead>\n",
       "    <tr style=\"text-align: right;\">\n",
       "      <th>Metrics</th>\n",
       "      <th>Precision</th>\n",
       "      <th>Recall</th>\n",
       "      <th>F1-Score</th>\n",
       "    </tr>\n",
       "  </thead>\n",
       "  <tbody>\n",
       "    <tr>\n",
       "      <th>Original</th>\n",
       "      <td>0.65</td>\n",
       "      <td>0.14</td>\n",
       "      <td>0.23</td>\n",
       "    </tr>\n",
       "    <tr>\n",
       "      <th>Threshold:0.05</th>\n",
       "      <td>0.38</td>\n",
       "      <td>1.0</td>\n",
       "      <td>0.55</td>\n",
       "    </tr>\n",
       "    <tr>\n",
       "      <th>Threshold:0.1</th>\n",
       "      <td>0.38</td>\n",
       "      <td>1.0</td>\n",
       "      <td>0.55</td>\n",
       "    </tr>\n",
       "    <tr>\n",
       "      <th>Threshold:0.15</th>\n",
       "      <td>0.38</td>\n",
       "      <td>1.0</td>\n",
       "      <td>0.55</td>\n",
       "    </tr>\n",
       "    <tr>\n",
       "      <th>Threshold:0.2</th>\n",
       "      <td>0.38</td>\n",
       "      <td>1.0</td>\n",
       "      <td>0.55</td>\n",
       "    </tr>\n",
       "    <tr>\n",
       "      <th>Threshold:0.25</th>\n",
       "      <td>0.38</td>\n",
       "      <td>1.0</td>\n",
       "      <td>0.55</td>\n",
       "    </tr>\n",
       "    <tr>\n",
       "      <th>Threshold:0.3</th>\n",
       "      <td>0.38</td>\n",
       "      <td>1.0</td>\n",
       "      <td>0.55</td>\n",
       "    </tr>\n",
       "    <tr>\n",
       "      <th>Threshold:0.35</th>\n",
       "      <td>0.41</td>\n",
       "      <td>0.86</td>\n",
       "      <td>0.56</td>\n",
       "    </tr>\n",
       "    <tr>\n",
       "      <th>Threshold:0.4</th>\n",
       "      <td>0.49</td>\n",
       "      <td>0.42</td>\n",
       "      <td>0.45</td>\n",
       "    </tr>\n",
       "    <tr>\n",
       "      <th>Threshold:0.45</th>\n",
       "      <td>0.65</td>\n",
       "      <td>0.15</td>\n",
       "      <td>0.24</td>\n",
       "    </tr>\n",
       "    <tr>\n",
       "      <th>Threshold:0.5</th>\n",
       "      <td>0.65</td>\n",
       "      <td>0.14</td>\n",
       "      <td>0.23</td>\n",
       "    </tr>\n",
       "    <tr>\n",
       "      <th>Threshold:0.55</th>\n",
       "      <td>0.71</td>\n",
       "      <td>0.04</td>\n",
       "      <td>0.08</td>\n",
       "    </tr>\n",
       "    <tr>\n",
       "      <th>Threshold:0.6</th>\n",
       "      <td>1.0</td>\n",
       "      <td>0.01</td>\n",
       "      <td>0.01</td>\n",
       "    </tr>\n",
       "    <tr>\n",
       "      <th>Threshold:0.65</th>\n",
       "      <td>1.0</td>\n",
       "      <td>0.0</td>\n",
       "      <td>0.0</td>\n",
       "    </tr>\n",
       "    <tr>\n",
       "      <th>Threshold:0.7</th>\n",
       "      <td>0.0</td>\n",
       "      <td>0.0</td>\n",
       "      <td>0.0</td>\n",
       "    </tr>\n",
       "    <tr>\n",
       "      <th>Threshold:0.75</th>\n",
       "      <td>0.0</td>\n",
       "      <td>0.0</td>\n",
       "      <td>0.0</td>\n",
       "    </tr>\n",
       "  </tbody>\n",
       "</table>\n",
       "</div>"
      ],
      "text/plain": [
       "Metrics        Precision Recall F1-Score\n",
       "Original            0.65   0.14     0.23\n",
       "Threshold:0.05      0.38    1.0     0.55\n",
       "Threshold:0.1       0.38    1.0     0.55\n",
       "Threshold:0.15      0.38    1.0     0.55\n",
       "Threshold:0.2       0.38    1.0     0.55\n",
       "Threshold:0.25      0.38    1.0     0.55\n",
       "Threshold:0.3       0.38    1.0     0.55\n",
       "Threshold:0.35      0.41   0.86     0.56\n",
       "Threshold:0.4       0.49   0.42     0.45\n",
       "Threshold:0.45      0.65   0.15     0.24\n",
       "Threshold:0.5       0.65   0.14     0.23\n",
       "Threshold:0.55      0.71   0.04     0.08\n",
       "Threshold:0.6        1.0   0.01     0.01\n",
       "Threshold:0.65       1.0    0.0      0.0\n",
       "Threshold:0.7        0.0    0.0      0.0\n",
       "Threshold:0.75       0.0    0.0      0.0"
      ]
     },
     "execution_count": 30,
     "metadata": {},
     "output_type": "execute_result"
    }
   ],
   "source": [
    "cols = ['Metrics', 'Original']\n",
    "model2_adj_threshold = pd.DataFrame()\n",
    "model2_adj_threshold['Original'] = Metrics_2\n",
    "thresholds = [j/20 for j in range(1, 16)]\n",
    "for i in thresholds:\n",
    "    model2_new_threshold = (model2.predict_proba(x_test)[:, 1] >= i).astype(int)\n",
    "    Precision_2_adj_threshold = round(precision_score(y_test, model2_new_threshold, average = 'binary'), 2)\n",
    "    Recall_2_adj_threshold = round(recall_score(y_test, model2_new_threshold, average = 'binary'), 2)\n",
    "    F1_SCore_2_adj_threshold = round(f1_score(y_test, model2_new_threshold, average = 'binary'), 2)\n",
    "    Metrics_2_adj_threshold = [Precision_2_adj_threshold, Recall_2_adj_threshold, F1_SCore_2_adj_threshold]\n",
    "    name = 'Threshold:' + str(i)\n",
    "    model2_adj_threshold[name] = Metrics_2_adj_threshold\n",
    "    cols.append(name)\n",
    "\n",
    "model2_adj_threshold.index = ['Precision', 'Recall', 'F1-Score']\n",
    "model2_adj_threshold = model2_adj_threshold.reset_index()\n",
    "model2_adj_threshold.columns = cols\n",
    "model2_adj_threshold.transpose()\n",
    "\n",
    "adj_threshold2 = model2_adj_threshold.transpose().iloc[1:, :]\n",
    "adj_threshold2.columns = model2_adj_threshold.iloc[:, 0]\n",
    "adj_threshold2"
   ]
  },
  {
   "cell_type": "code",
   "execution_count": 31,
   "metadata": {},
   "outputs": [
    {
     "data": {
      "text/plain": [
       "<matplotlib.legend.Legend at 0x2b312ec0d90>"
      ]
     },
     "execution_count": 31,
     "metadata": {},
     "output_type": "execute_result"
    },
    {
     "data": {
      "image/png": "[encoded data removed]",
      "text/plain": [
       "<Figure size 1500x500 with 1 Axes>"
      ]
     },
     "metadata": {},
     "output_type": "display_data"
    }
   ],
   "source": [
    "# Plotting the metrics\n",
    "model2_adj_threshold.plot(x = 'Metrics',\n",
    "                          kind = 'bar',\n",
    "                          stacked = False,\n",
    "                          title = 'Metrics across varying thresholds',\n",
    "                          figsize = (15, 5),\n",
    "                          cmap = 'twilight').legend(loc = 'center left', bbox_to_anchor = (1.0, 0.5))"
   ]
  },
  {
   "cell_type": "markdown",
   "metadata": {},
   "source": [
    "- Working with optimal F1-Score with threshold at 0.35"
   ]
  },
  {
   "cell_type": "markdown",
   "metadata": {},
   "source": [
    "New Random Forest Classifier with optimal threshold"
   ]
  },
  {
   "cell_type": "code",
   "execution_count": 32,
   "metadata": {},
   "outputs": [
    {
     "data": {
      "image/png": "[encoded data removed]",
      "text/plain": [
       "<Figure size 500x500 with 1 Axes>"
      ]
     },
     "metadata": {},
     "output_type": "display_data"
    }
   ],
   "source": [
    "# Model prediction with threshold at 0.35\n",
    "model2_pred_new_threshold = (model2.predict_proba(x_test)[:, 1] >= 0.35).astype(int)\n",
    "\n",
    "# Confusion matrix\n",
    "conf_matrix = confusion_matrix(y_true = y_test, y_pred = model2_pred_new_threshold)\n",
    "fig, ax = plt.subplots(figsize = (5, 5))\n",
    "ax.matshow(conf_matrix, cmap = plt.cm.Accent, alpha = 0.4)\n",
    "for i in range(conf_matrix.shape[0]):\n",
    "    for j in range(conf_matrix.shape[1]):\n",
    "        ax.text(x = j, y = i, s = conf_matrix[i, j],\n",
    "                va = 'center', ha = 'center', size = 'x-large')\n",
    "\n",
    "plt.xlabel('Prediction', fontsize = 8)\n",
    "plt.ylabel('Actual', fontsize = 8)\n",
    "plt.title('Confusion Matrix', fontsize = 10)\n",
    "plt.show()"
   ]
  },
  {
   "cell_type": "markdown",
   "metadata": {},
   "source": [
    "- The model has improved in capturing more true positives as it can be observed in the confusion matrix above. Out of the 42389 minority class records, 36638 are predicted correctly this time. "
   ]
  },
  {
   "cell_type": "code",
   "execution_count": 33,
   "metadata": {},
   "outputs": [
    {
     "data": {
      "text/html": [
       "<div>\n",
       "<style scoped>\n",
       "    .dataframe tbody tr th:only-of-type {\n",
       "        vertical-align: middle;\n",
       "    }\n",
       "\n",
       "    .dataframe tbody tr th {\n",
       "        vertical-align: top;\n",
       "    }\n",
       "\n",
       "    .dataframe thead th {\n",
       "        text-align: right;\n",
       "    }\n",
       "</style>\n",
       "<table border=\"1\" class=\"dataframe\">\n",
       "  <thead>\n",
       "    <tr style=\"text-align: right;\">\n",
       "      <th></th>\n",
       "      <th>Original Dataset</th>\n",
       "      <th>New Threshold Dataset</th>\n",
       "    </tr>\n",
       "  </thead>\n",
       "  <tbody>\n",
       "    <tr>\n",
       "      <th>Precision</th>\n",
       "      <td>0.65</td>\n",
       "      <td>0.41</td>\n",
       "    </tr>\n",
       "    <tr>\n",
       "      <th>Recall</th>\n",
       "      <td>0.14</td>\n",
       "      <td>0.86</td>\n",
       "    </tr>\n",
       "    <tr>\n",
       "      <th>F1-Score</th>\n",
       "      <td>0.23</td>\n",
       "      <td>0.56</td>\n",
       "    </tr>\n",
       "  </tbody>\n",
       "</table>\n",
       "</div>"
      ],
      "text/plain": [
       "           Original Dataset  New Threshold Dataset\n",
       "Precision              0.65                   0.41\n",
       "Recall                 0.14                   0.86\n",
       "F1-Score               0.23                   0.56"
      ]
     },
     "execution_count": 33,
     "metadata": {},
     "output_type": "execute_result"
    }
   ],
   "source": [
    "# Precision, Recall and F1-Score of new model prediction with optimal threshold\n",
    "Precision_2_newthreshold = round(precision_score(y_test, model2_pred_new_threshold), 2)\n",
    "Recall_2_newthreshold = round(recall_score(y_test, model2_pred_new_threshold), 2)\n",
    "F1_Score_2_newthreshold = round(f1_score(y_test, model2_pred_new_threshold), 2)\n",
    "Metrics_2_newthreshold = [Precision_2_newthreshold, Recall_2_newthreshold, F1_Score_2_newthreshold]\n",
    "\n",
    "model2_newthreshold = pd.DataFrame(list(zip(Metrics_2, Metrics_2_newthreshold)))\n",
    "model2_newthreshold.index = ['Precision', 'Recall', 'F1-Score']\n",
    "model2_newthreshold.columns = ['Original Dataset', 'New Threshold Dataset']\n",
    "model2_newthreshold"
   ]
  },
  {
   "cell_type": "markdown",
   "metadata": {},
   "source": [
    "Over-sampling"
   ]
  },
  {
   "cell_type": "code",
   "execution_count": 34,
   "metadata": {},
   "outputs": [],
   "source": [
    "# Model2 training on upsampled data\n",
    "# Creating and training the Random Forest model\n",
    "model2_ups = RandomForestClassifier(\n",
    "    criterion = 'entropy',\n",
    "    max_depth = 4,\n",
    "    max_features = 'sqrt',\n",
    "    min_samples_leaf = 1,\n",
    "    min_samples_split = 3,\n",
    "    n_estimators = 70\n",
    ")\n",
    "model2_ups.fit(x_train_ups, y_train_ups) # model training\n",
    "\n",
    "# Model predictions on the test set\n",
    "model2_ups_pred = model2_ups.predict(x_test_ups)"
   ]
  },
  {
   "cell_type": "code",
   "execution_count": 35,
   "metadata": {},
   "outputs": [
    {
     "data": {
      "image/png": "[encoded data removed]",
      "text/plain": [
       "<Figure size 500x500 with 1 Axes>"
      ]
     },
     "metadata": {},
     "output_type": "display_data"
    }
   ],
   "source": [
    "# Confusion matrix\n",
    "conf_matrix = confusion_matrix(y_true = y_test_ups, y_pred = model2_ups_pred)\n",
    "fig, ax = plt.subplots(figsize = (5, 5))\n",
    "ax.matshow(conf_matrix, cmap = plt.cm.Accent, alpha = 0.4)\n",
    "for i in range(conf_matrix.shape[0]):\n",
    "    for j in range(conf_matrix.shape[1]):\n",
    "        ax.text(x = j, y = i, s = conf_matrix[i, j],\n",
    "                va = 'center', ha = 'center', size = 'x-large')\n",
    "\n",
    "plt.xlabel('Prediction', fontsize = 8)\n",
    "plt.ylabel('Actual', fontsize = 8)\n",
    "plt.title('Confusion Matrix', fontsize = 10)\n",
    "plt.show()"
   ]
  },
  {
   "cell_type": "code",
   "execution_count": 36,
   "metadata": {},
   "outputs": [
    {
     "data": {
      "text/html": [
       "<div>\n",
       "<style scoped>\n",
       "    .dataframe tbody tr th:only-of-type {\n",
       "        vertical-align: middle;\n",
       "    }\n",
       "\n",
       "    .dataframe tbody tr th {\n",
       "        vertical-align: top;\n",
       "    }\n",
       "\n",
       "    .dataframe thead th {\n",
       "        text-align: right;\n",
       "    }\n",
       "</style>\n",
       "<table border=\"1\" class=\"dataframe\">\n",
       "  <thead>\n",
       "    <tr style=\"text-align: right;\">\n",
       "      <th></th>\n",
       "      <th>Original Dataset</th>\n",
       "      <th>Threshold = 0.3</th>\n",
       "      <th>Up-sampled Dataset</th>\n",
       "    </tr>\n",
       "  </thead>\n",
       "  <tbody>\n",
       "    <tr>\n",
       "      <th>Precision</th>\n",
       "      <td>0.65</td>\n",
       "      <td>0.41</td>\n",
       "      <td>0.61</td>\n",
       "    </tr>\n",
       "    <tr>\n",
       "      <th>Recall</th>\n",
       "      <td>0.14</td>\n",
       "      <td>0.86</td>\n",
       "      <td>0.42</td>\n",
       "    </tr>\n",
       "    <tr>\n",
       "      <th>F1-Score</th>\n",
       "      <td>0.23</td>\n",
       "      <td>0.56</td>\n",
       "      <td>0.50</td>\n",
       "    </tr>\n",
       "  </tbody>\n",
       "</table>\n",
       "</div>"
      ],
      "text/plain": [
       "           Original Dataset  Threshold = 0.3  Up-sampled Dataset\n",
       "Precision              0.65             0.41                0.61\n",
       "Recall                 0.14             0.86                0.42\n",
       "F1-Score               0.23             0.56                0.50"
      ]
     },
     "execution_count": 36,
     "metadata": {},
     "output_type": "execute_result"
    }
   ],
   "source": [
    "# Model2 Precision, Recall and F1-Score on upsampled data\n",
    "Precision_2_ups = round(precision_score(y_test_ups, model2_ups_pred), 2)\n",
    "Recall_2_ups = round(recall_score(y_test_ups, model2_ups_pred), 2)\n",
    "F1_Score_2_ups = round(f1_score(y_test_ups, model2_ups_pred), 2)\n",
    "Metrics_2_ups = [Precision_2_ups, Recall_2_ups, F1_Score_2_ups]\n",
    "\n",
    "up_sampled_2 = pd.DataFrame(list(zip(Metrics_2, Metrics_2_newthreshold,Metrics_2_ups)))\n",
    "up_sampled_2.index = ['Precision', 'Recall', 'F1-Score']\n",
    "up_sampled_2.columns = ['Original Dataset', 'Threshold = 0.3','Up-sampled Dataset']\n",
    "up_sampled_2"
   ]
  },
  {
   "cell_type": "markdown",
   "metadata": {},
   "source": [
    "Under-sampling"
   ]
  },
  {
   "cell_type": "code",
   "execution_count": 37,
   "metadata": {},
   "outputs": [],
   "source": [
    "# Model training on downsampled data\n",
    "# Creating and training the Random Forest model\n",
    "model2_down = RandomForestClassifier(\n",
    "    criterion = 'entropy',\n",
    "    max_depth = 4,\n",
    "    max_features = 'sqrt',\n",
    "    min_samples_leaf = 1,\n",
    "    min_samples_split = 3,\n",
    "    n_estimators = 70\n",
    ")\n",
    "model2_down.fit(x_train_und, y_train_und) # model training\n",
    "\n",
    "# Model predictions on the test set\n",
    "model2_down_pred = model2_down.predict(x_test_und)"
   ]
  },
  {
   "cell_type": "code",
   "execution_count": 38,
   "metadata": {},
   "outputs": [
    {
     "data": {
      "image/png": "[encoded data removed]",
      "text/plain": [
       "<Figure size 500x500 with 1 Axes>"
      ]
     },
     "metadata": {},
     "output_type": "display_data"
    }
   ],
   "source": [
    "# Confusion matrix\n",
    "conf_matrix = confusion_matrix(y_true = y_test_und, y_pred = model2_down_pred)\n",
    "fig, ax = plt.subplots(figsize = (5, 5))\n",
    "ax.matshow(conf_matrix, cmap = plt.cm.Accent, alpha = 0.4)\n",
    "for i in range(conf_matrix.shape[0]):\n",
    "    for j in range(conf_matrix.shape[1]):\n",
    "        ax.text(x = j, y = i, s = conf_matrix[i, j],\n",
    "                va = 'center', ha = 'center', size = 'x-large')\n",
    "\n",
    "plt.xlabel('Prediction', fontsize = 8)\n",
    "plt.ylabel('Actual', fontsize = 8)\n",
    "plt.title('Confusion Matrix', fontsize = 10)\n",
    "plt.show()"
   ]
  },
  {
   "cell_type": "code",
   "execution_count": 39,
   "metadata": {},
   "outputs": [
    {
     "data": {
      "text/html": [
       "<div>\n",
       "<style scoped>\n",
       "    .dataframe tbody tr th:only-of-type {\n",
       "        vertical-align: middle;\n",
       "    }\n",
       "\n",
       "    .dataframe tbody tr th {\n",
       "        vertical-align: top;\n",
       "    }\n",
       "\n",
       "    .dataframe thead th {\n",
       "        text-align: right;\n",
       "    }\n",
       "</style>\n",
       "<table border=\"1\" class=\"dataframe\">\n",
       "  <thead>\n",
       "    <tr style=\"text-align: right;\">\n",
       "      <th></th>\n",
       "      <th>Original Dataset</th>\n",
       "      <th>Threshold = 0.3</th>\n",
       "      <th>Up-sampled Dataset</th>\n",
       "      <th>Under-sampled Dataset</th>\n",
       "    </tr>\n",
       "  </thead>\n",
       "  <tbody>\n",
       "    <tr>\n",
       "      <th>Precision</th>\n",
       "      <td>0.65</td>\n",
       "      <td>0.41</td>\n",
       "      <td>0.61</td>\n",
       "      <td>0.61</td>\n",
       "    </tr>\n",
       "    <tr>\n",
       "      <th>Recall</th>\n",
       "      <td>0.14</td>\n",
       "      <td>0.86</td>\n",
       "      <td>0.42</td>\n",
       "      <td>0.41</td>\n",
       "    </tr>\n",
       "    <tr>\n",
       "      <th>F1-Score</th>\n",
       "      <td>0.23</td>\n",
       "      <td>0.56</td>\n",
       "      <td>0.50</td>\n",
       "      <td>0.49</td>\n",
       "    </tr>\n",
       "  </tbody>\n",
       "</table>\n",
       "</div>"
      ],
      "text/plain": [
       "           Original Dataset  Threshold = 0.3  Up-sampled Dataset  \\\n",
       "Precision              0.65             0.41                0.61   \n",
       "Recall                 0.14             0.86                0.42   \n",
       "F1-Score               0.23             0.56                0.50   \n",
       "\n",
       "           Under-sampled Dataset  \n",
       "Precision                   0.61  \n",
       "Recall                      0.41  \n",
       "F1-Score                    0.49  "
      ]
     },
     "execution_count": 39,
     "metadata": {},
     "output_type": "execute_result"
    }
   ],
   "source": [
    "# Model2 Precision, Recall and F1-Score on downsampled data\n",
    "Precision_2_down = round(precision_score(y_test_und, model2_down_pred), 2)\n",
    "Recall_2_down = round(recall_score(y_test_und, model2_down_pred), 2)\n",
    "F1_Score_2_down = round(f1_score(y_test_und, model2_down_pred), 2)\n",
    "Metrics_2_down = [Precision_2_down, Recall_2_down, F1_Score_2_down]\n",
    "\n",
    "down_sampled_2 = pd.DataFrame(list(zip(Metrics_2, Metrics_2_newthreshold,Metrics_2_ups, Metrics_2_down)))\n",
    "down_sampled_2.index = ['Precision', 'Recall', 'F1-Score']\n",
    "down_sampled_2.columns = ['Original Dataset', 'Threshold = 0.3','Up-sampled Dataset', 'Under-sampled Dataset']\n",
    "down_sampled_2"
   ]
  },
  {
   "cell_type": "code",
   "execution_count": 40,
   "metadata": {},
   "outputs": [],
   "source": [
    "# model3 - Decision Tree Classifier\n",
    "# Importing DecisionTreeClassifier library\n",
    "from sklearn.tree import DecisionTreeClassifier\n",
    "\n",
    "# Build GaussianNB classifier\n",
    "model3 = DecisionTreeClassifier(max_leaf_nodes = 5)\n",
    "\n",
    "model3.fit(x_train, y_train) # model training\n",
    "\n",
    "# Model predictions on the test set\n",
    "model3_pred = model3.predict(x_test)"
   ]
  },
  {
   "cell_type": "code",
   "execution_count": 41,
   "metadata": {},
   "outputs": [
    {
     "name": "stdout",
     "output_type": "stream",
     "text": [
      "model3 accuracy on train set: 63.5%\n",
      "model3 accuracy on test set: 63.5%\n"
     ]
    },
    {
     "data": {
      "image/png": "[encoded data removed]",
      "text/plain": [
       "<Figure size 500x500 with 1 Axes>"
      ]
     },
     "metadata": {},
     "output_type": "display_data"
    }
   ],
   "source": [
    "# Support Vector Classifier (model3) evaluation\n",
    "# Checking the Model Accuracy and comparing it to Precision, Recall and F1_Score\n",
    "\n",
    "print('model3 accuracy on train set: {:.1f}%'.format(round(accuracy_score(y_train, model3.predict(x_train))*100, 1)))\n",
    "print('model3 accuracy on test set: {:.1f}%'.format(round(accuracy_score(y_test, model3_pred)*100, 1)))\n",
    "\n",
    "# Confusion matrix\n",
    "conf_matrix = confusion_matrix(y_true = y_test, y_pred = model3_pred)\n",
    "fig, ax = plt.subplots(figsize = (5, 5))\n",
    "ax.matshow(conf_matrix, cmap = plt.cm.Accent, alpha = 0.4)\n",
    "for i in range(conf_matrix.shape[0]):\n",
    "    for j in range(conf_matrix.shape[1]):\n",
    "        ax.text(x = j, y = i, s = conf_matrix[i, j],\n",
    "                va = 'center', ha = 'center', size = 'x-large')\n",
    "\n",
    "plt.xlabel('Prediction', fontsize = 8)\n",
    "plt.ylabel('Actual', fontsize = 8)\n",
    "plt.title('Confusion Matrix', fontsize = 10)\n",
    "plt.show()"
   ]
  },
  {
   "cell_type": "markdown",
   "metadata": {},
   "source": [
    "- Out of 42389 minority (positive) class records, only 5233 are predicted correctly. That's not a great performance by the model."
   ]
  },
  {
   "cell_type": "code",
   "execution_count": 42,
   "metadata": {},
   "outputs": [
    {
     "data": {
      "text/html": [
       "<div>\n",
       "<style scoped>\n",
       "    .dataframe tbody tr th:only-of-type {\n",
       "        vertical-align: middle;\n",
       "    }\n",
       "\n",
       "    .dataframe tbody tr th {\n",
       "        vertical-align: top;\n",
       "    }\n",
       "\n",
       "    .dataframe thead th {\n",
       "        text-align: right;\n",
       "    }\n",
       "</style>\n",
       "<table border=\"1\" class=\"dataframe\">\n",
       "  <thead>\n",
       "    <tr style=\"text-align: right;\">\n",
       "      <th></th>\n",
       "      <th>Original Dataset</th>\n",
       "    </tr>\n",
       "  </thead>\n",
       "  <tbody>\n",
       "    <tr>\n",
       "      <th>Precision</th>\n",
       "      <td>0.61</td>\n",
       "    </tr>\n",
       "    <tr>\n",
       "      <th>Recall</th>\n",
       "      <td>0.12</td>\n",
       "    </tr>\n",
       "    <tr>\n",
       "      <th>F1-Score</th>\n",
       "      <td>0.21</td>\n",
       "    </tr>\n",
       "  </tbody>\n",
       "</table>\n",
       "</div>"
      ],
      "text/plain": [
       "           Original Dataset\n",
       "Precision              0.61\n",
       "Recall                 0.12\n",
       "F1-Score               0.21"
      ]
     },
     "execution_count": 42,
     "metadata": {},
     "output_type": "execute_result"
    }
   ],
   "source": [
    "# Precision, Recall and F1-Score of Naive Bayes Classifier\n",
    "Precision_3 = round(precision_score(y_test, model3_pred), 2)\n",
    "Recall_3 = round(recall_score(y_test, model3_pred), 2)\n",
    "F1_Score_3 = round(f1_score(y_test, model3_pred), 2)\n",
    "Metrics_3 = [Precision_3, Recall_3, F1_Score_3]\n",
    "\n",
    "Original_3 = pd.DataFrame(Metrics_3)\n",
    "Original_3.index = ['Precision', 'Recall', 'F1-Score']\n",
    "Original_3.columns = ['Original Dataset']\n",
    "Original_3"
   ]
  },
  {
   "cell_type": "markdown",
   "metadata": {},
   "source": [
    "- Only 5% 5of the potentially fraudulent insurance claims are detected by the Decision Tree Classifier. This implies that the model misses a significant number of actual positive (fraudulent) cases.\n",
    "- Out of all the positive (fraudulent) predictions, only 61% are actually positive (fraudulent). This implies that the model is correct about 61% of the time when detecting positive (fraudulent) cases."
   ]
  },
  {
   "cell_type": "markdown",
   "metadata": {},
   "source": [
    "Improving Naive Bayes model's efficiency"
   ]
  },
  {
   "cell_type": "markdown",
   "metadata": {},
   "source": [
    "Changing the prediction threshold\n",
    "- Iterating over a series of values ranging from 0.1 to 0.75 to identify the threshold which performs the best."
   ]
  },
  {
   "cell_type": "code",
   "execution_count": 43,
   "metadata": {},
   "outputs": [
    {
     "data": {
      "text/html": [
       "<div>\n",
       "<style scoped>\n",
       "    .dataframe tbody tr th:only-of-type {\n",
       "        vertical-align: middle;\n",
       "    }\n",
       "\n",
       "    .dataframe tbody tr th {\n",
       "        vertical-align: top;\n",
       "    }\n",
       "\n",
       "    .dataframe thead th {\n",
       "        text-align: right;\n",
       "    }\n",
       "</style>\n",
       "<table border=\"1\" class=\"dataframe\">\n",
       "  <thead>\n",
       "    <tr style=\"text-align: right;\">\n",
       "      <th>Metrics</th>\n",
       "      <th>Precision</th>\n",
       "      <th>Recall</th>\n",
       "      <th>F1-Score</th>\n",
       "    </tr>\n",
       "  </thead>\n",
       "  <tbody>\n",
       "    <tr>\n",
       "      <th>Original</th>\n",
       "      <td>0.61</td>\n",
       "      <td>0.12</td>\n",
       "      <td>0.21</td>\n",
       "    </tr>\n",
       "    <tr>\n",
       "      <th>Threshold:0.05</th>\n",
       "      <td>0.38</td>\n",
       "      <td>1.0</td>\n",
       "      <td>0.55</td>\n",
       "    </tr>\n",
       "    <tr>\n",
       "      <th>Threshold:0.1</th>\n",
       "      <td>0.38</td>\n",
       "      <td>1.0</td>\n",
       "      <td>0.55</td>\n",
       "    </tr>\n",
       "    <tr>\n",
       "      <th>Threshold:0.15</th>\n",
       "      <td>0.38</td>\n",
       "      <td>1.0</td>\n",
       "      <td>0.55</td>\n",
       "    </tr>\n",
       "    <tr>\n",
       "      <th>Threshold:0.2</th>\n",
       "      <td>0.38</td>\n",
       "      <td>1.0</td>\n",
       "      <td>0.55</td>\n",
       "    </tr>\n",
       "    <tr>\n",
       "      <th>Threshold:0.25</th>\n",
       "      <td>0.38</td>\n",
       "      <td>1.0</td>\n",
       "      <td>0.55</td>\n",
       "    </tr>\n",
       "    <tr>\n",
       "      <th>Threshold:0.3</th>\n",
       "      <td>0.38</td>\n",
       "      <td>1.0</td>\n",
       "      <td>0.55</td>\n",
       "    </tr>\n",
       "    <tr>\n",
       "      <th>Threshold:0.35</th>\n",
       "      <td>0.48</td>\n",
       "      <td>0.4</td>\n",
       "      <td>0.44</td>\n",
       "    </tr>\n",
       "    <tr>\n",
       "      <th>Threshold:0.4</th>\n",
       "      <td>0.48</td>\n",
       "      <td>0.4</td>\n",
       "      <td>0.44</td>\n",
       "    </tr>\n",
       "    <tr>\n",
       "      <th>Threshold:0.45</th>\n",
       "      <td>0.61</td>\n",
       "      <td>0.12</td>\n",
       "      <td>0.21</td>\n",
       "    </tr>\n",
       "    <tr>\n",
       "      <th>Threshold:0.5</th>\n",
       "      <td>0.61</td>\n",
       "      <td>0.12</td>\n",
       "      <td>0.21</td>\n",
       "    </tr>\n",
       "    <tr>\n",
       "      <th>Threshold:0.55</th>\n",
       "      <td>0.61</td>\n",
       "      <td>0.12</td>\n",
       "      <td>0.21</td>\n",
       "    </tr>\n",
       "    <tr>\n",
       "      <th>Threshold:0.6</th>\n",
       "      <td>1.0</td>\n",
       "      <td>0.01</td>\n",
       "      <td>0.03</td>\n",
       "    </tr>\n",
       "    <tr>\n",
       "      <th>Threshold:0.65</th>\n",
       "      <td>1.0</td>\n",
       "      <td>0.01</td>\n",
       "      <td>0.03</td>\n",
       "    </tr>\n",
       "    <tr>\n",
       "      <th>Threshold:0.7</th>\n",
       "      <td>1.0</td>\n",
       "      <td>0.01</td>\n",
       "      <td>0.03</td>\n",
       "    </tr>\n",
       "    <tr>\n",
       "      <th>Threshold:0.75</th>\n",
       "      <td>1.0</td>\n",
       "      <td>0.01</td>\n",
       "      <td>0.03</td>\n",
       "    </tr>\n",
       "  </tbody>\n",
       "</table>\n",
       "</div>"
      ],
      "text/plain": [
       "Metrics        Precision Recall F1-Score\n",
       "Original            0.61   0.12     0.21\n",
       "Threshold:0.05      0.38    1.0     0.55\n",
       "Threshold:0.1       0.38    1.0     0.55\n",
       "Threshold:0.15      0.38    1.0     0.55\n",
       "Threshold:0.2       0.38    1.0     0.55\n",
       "Threshold:0.25      0.38    1.0     0.55\n",
       "Threshold:0.3       0.38    1.0     0.55\n",
       "Threshold:0.35      0.48    0.4     0.44\n",
       "Threshold:0.4       0.48    0.4     0.44\n",
       "Threshold:0.45      0.61   0.12     0.21\n",
       "Threshold:0.5       0.61   0.12     0.21\n",
       "Threshold:0.55      0.61   0.12     0.21\n",
       "Threshold:0.6        1.0   0.01     0.03\n",
       "Threshold:0.65       1.0   0.01     0.03\n",
       "Threshold:0.7        1.0   0.01     0.03\n",
       "Threshold:0.75       1.0   0.01     0.03"
      ]
     },
     "execution_count": 43,
     "metadata": {},
     "output_type": "execute_result"
    }
   ],
   "source": [
    "cols = ['Metrics', 'Original']\n",
    "model3_adj_threshold = pd.DataFrame()\n",
    "model3_adj_threshold['Original'] = Metrics_3\n",
    "thresholds = [j/20 for j in range(1, 16)]\n",
    "for i in thresholds:\n",
    "    model3_new_threshold = (model3.predict_proba(x_test)[:, 1] >= i).astype(int)\n",
    "    Precision_3_adj_threshold = round(precision_score(y_test, model3_new_threshold, average = 'binary'), 2)\n",
    "    Recall_3_adj_threshold = round(recall_score(y_test, model3_new_threshold, average = 'binary'), 2)\n",
    "    F1_SCore_3_adj_threshold = round(f1_score(y_test, model3_new_threshold, average = 'binary'), 2)\n",
    "    Metrics_3_adj_threshold = [Precision_3_adj_threshold, Recall_3_adj_threshold, F1_SCore_3_adj_threshold]\n",
    "    name = 'Threshold:' + str(i)\n",
    "    model3_adj_threshold[name] = Metrics_3_adj_threshold\n",
    "    cols.append(name)\n",
    "\n",
    "model3_adj_threshold.index = ['Precision', 'Recall', 'F1-Score']\n",
    "model3_adj_threshold = model3_adj_threshold.reset_index()\n",
    "model3_adj_threshold.columns = cols\n",
    "model3_adj_threshold.transpose()\n",
    "\n",
    "adj_threshold3 = model3_adj_threshold.transpose().iloc[1:, :]\n",
    "adj_threshold3.columns = model3_adj_threshold.iloc[:, 0]\n",
    "adj_threshold3"
   ]
  },
  {
   "cell_type": "code",
   "execution_count": 44,
   "metadata": {},
   "outputs": [
    {
     "data": {
      "text/plain": [
       "<matplotlib.legend.Legend at 0x2b315951810>"
      ]
     },
     "execution_count": 44,
     "metadata": {},
     "output_type": "execute_result"
    },
    {
     "data": {
      "image/png": "[encoded data removed]",
      "text/plain": [
       "<Figure size 1500x500 with 1 Axes>"
      ]
     },
     "metadata": {},
     "output_type": "display_data"
    }
   ],
   "source": [
    "# Plotting the metrics\n",
    "model3_adj_threshold.plot(x = 'Metrics',\n",
    "                          kind = 'bar',\n",
    "                          stacked = False,\n",
    "                          title = 'Metrics across varying thresholds',\n",
    "                          figsize = (15, 5),\n",
    "                          cmap = 'twilight').legend(loc = 'center left', bbox_to_anchor = (1.0, 0.5))"
   ]
  },
  {
   "cell_type": "code",
   "execution_count": 45,
   "metadata": {},
   "outputs": [
    {
     "data": {
      "image/png": "[encoded data removed]",
      "text/plain": [
       "<Figure size 500x500 with 1 Axes>"
      ]
     },
     "metadata": {},
     "output_type": "display_data"
    }
   ],
   "source": [
    "# Model prediction with threshold at 0.3\n",
    "model3_pred_new_threshold = (model3.predict_proba(x_test)[:, 1] >= 0.3).astype(int)\n",
    "\n",
    "# Confusion matrix\n",
    "conf_matrix = confusion_matrix(y_true = y_test, y_pred = model3_pred_new_threshold)\n",
    "fig, ax = plt.subplots(figsize = (5, 5))\n",
    "ax.matshow(conf_matrix, cmap = plt.cm.Accent, alpha = 0.4)\n",
    "for i in range(conf_matrix.shape[0]):\n",
    "    for j in range(conf_matrix.shape[1]):\n",
    "        ax.text(x = j, y = i, s = conf_matrix[i, j],\n",
    "                va = 'center', ha = 'center', size = 'x-large')\n",
    "\n",
    "plt.xlabel('Prediction', fontsize = 8)\n",
    "plt.ylabel('Actual', fontsize = 8)\n",
    "plt.title('Confusion Matrix', fontsize = 10)\n",
    "plt.show()"
   ]
  },
  {
   "cell_type": "code",
   "execution_count": 46,
   "metadata": {},
   "outputs": [
    {
     "data": {
      "text/html": [
       "<div>\n",
       "<style scoped>\n",
       "    .dataframe tbody tr th:only-of-type {\n",
       "        vertical-align: middle;\n",
       "    }\n",
       "\n",
       "    .dataframe tbody tr th {\n",
       "        vertical-align: top;\n",
       "    }\n",
       "\n",
       "    .dataframe thead th {\n",
       "        text-align: right;\n",
       "    }\n",
       "</style>\n",
       "<table border=\"1\" class=\"dataframe\">\n",
       "  <thead>\n",
       "    <tr style=\"text-align: right;\">\n",
       "      <th></th>\n",
       "      <th>Original Dataset</th>\n",
       "      <th>New Threshold Dataset</th>\n",
       "    </tr>\n",
       "  </thead>\n",
       "  <tbody>\n",
       "    <tr>\n",
       "      <th>Precision</th>\n",
       "      <td>0.61</td>\n",
       "      <td>0.38</td>\n",
       "    </tr>\n",
       "    <tr>\n",
       "      <th>Recall</th>\n",
       "      <td>0.12</td>\n",
       "      <td>1.00</td>\n",
       "    </tr>\n",
       "    <tr>\n",
       "      <th>F1-Score</th>\n",
       "      <td>0.21</td>\n",
       "      <td>0.55</td>\n",
       "    </tr>\n",
       "  </tbody>\n",
       "</table>\n",
       "</div>"
      ],
      "text/plain": [
       "           Original Dataset  New Threshold Dataset\n",
       "Precision              0.61                   0.38\n",
       "Recall                 0.12                   1.00\n",
       "F1-Score               0.21                   0.55"
      ]
     },
     "execution_count": 46,
     "metadata": {},
     "output_type": "execute_result"
    }
   ],
   "source": [
    "# Precision, Recall and F1-Score of new model prediction with optimal threshold\n",
    "Precision_3_newthreshold = round(precision_score(y_test, model3_pred_new_threshold), 2)\n",
    "Recall_3_newthreshold = round(recall_score(y_test, model3_pred_new_threshold), 2)\n",
    "F1_Score_3_newthreshold = round(f1_score(y_test, model3_pred_new_threshold), 2)\n",
    "Metrics_3_newthreshold = [Precision_3_newthreshold, Recall_3_newthreshold, F1_Score_3_newthreshold]\n",
    "\n",
    "model3_newthreshold = pd.DataFrame(list(zip(Metrics_3, Metrics_3_newthreshold)))\n",
    "model3_newthreshold.index = ['Precision', 'Recall', 'F1-Score']\n",
    "model3_newthreshold.columns = ['Original Dataset', 'New Threshold Dataset']\n",
    "model3_newthreshold"
   ]
  },
  {
   "cell_type": "markdown",
   "metadata": {},
   "source": [
    "Over - sampling"
   ]
  },
  {
   "cell_type": "code",
   "execution_count": 47,
   "metadata": {},
   "outputs": [],
   "source": [
    "# Model3 training on upsampled data\n",
    "model3_ups = DecisionTreeClassifier(max_leaf_nodes = 5)\n",
    "model3_ups.fit(x_train_ups, y_train_ups) # model training\n",
    "\n",
    "# Model predictions on the test set\n",
    "model3_ups_pred = model3_ups.predict(x_test_ups)"
   ]
  },
  {
   "cell_type": "code",
   "execution_count": 48,
   "metadata": {},
   "outputs": [
    {
     "data": {
      "image/png": "[encoded data removed]",
      "text/plain": [
       "<Figure size 500x500 with 1 Axes>"
      ]
     },
     "metadata": {},
     "output_type": "display_data"
    }
   ],
   "source": [
    "# Confusion matrix\n",
    "conf_matrix = confusion_matrix(y_true = y_test_ups, y_pred = model3_ups_pred)\n",
    "fig, ax = plt.subplots(figsize = (5, 5))\n",
    "ax.matshow(conf_matrix, cmap = plt.cm.Accent, alpha = 0.4)\n",
    "for i in range(conf_matrix.shape[0]):\n",
    "    for j in range(conf_matrix.shape[1]):\n",
    "        ax.text(x = j, y = i, s = conf_matrix[i, j],\n",
    "                va = 'center', ha = 'center', size = 'x-large')\n",
    "\n",
    "plt.xlabel('Prediction', fontsize = 8)\n",
    "plt.ylabel('Actual', fontsize = 8)\n",
    "plt.title('Confusion Matrix', fontsize = 10)\n",
    "plt.show()"
   ]
  },
  {
   "cell_type": "code",
   "execution_count": 49,
   "metadata": {},
   "outputs": [
    {
     "data": {
      "text/html": [
       "<div>\n",
       "<style scoped>\n",
       "    .dataframe tbody tr th:only-of-type {\n",
       "        vertical-align: middle;\n",
       "    }\n",
       "\n",
       "    .dataframe tbody tr th {\n",
       "        vertical-align: top;\n",
       "    }\n",
       "\n",
       "    .dataframe thead th {\n",
       "        text-align: right;\n",
       "    }\n",
       "</style>\n",
       "<table border=\"1\" class=\"dataframe\">\n",
       "  <thead>\n",
       "    <tr style=\"text-align: right;\">\n",
       "      <th></th>\n",
       "      <th>Original Dataset</th>\n",
       "      <th>Threshold = 0.3</th>\n",
       "      <th>Up-sampled Dataset</th>\n",
       "    </tr>\n",
       "  </thead>\n",
       "  <tbody>\n",
       "    <tr>\n",
       "      <th>Precision</th>\n",
       "      <td>0.61</td>\n",
       "      <td>0.38</td>\n",
       "      <td>0.60</td>\n",
       "    </tr>\n",
       "    <tr>\n",
       "      <th>Recall</th>\n",
       "      <td>0.12</td>\n",
       "      <td>1.00</td>\n",
       "      <td>0.40</td>\n",
       "    </tr>\n",
       "    <tr>\n",
       "      <th>F1-Score</th>\n",
       "      <td>0.21</td>\n",
       "      <td>0.55</td>\n",
       "      <td>0.48</td>\n",
       "    </tr>\n",
       "  </tbody>\n",
       "</table>\n",
       "</div>"
      ],
      "text/plain": [
       "           Original Dataset  Threshold = 0.3  Up-sampled Dataset\n",
       "Precision              0.61             0.38                0.60\n",
       "Recall                 0.12             1.00                0.40\n",
       "F1-Score               0.21             0.55                0.48"
      ]
     },
     "execution_count": 49,
     "metadata": {},
     "output_type": "execute_result"
    }
   ],
   "source": [
    "# Model3 Precision, Recall and F1-Score on upsampled data\n",
    "Precision_3_ups = round(precision_score(y_test_ups, model3_ups_pred), 2)\n",
    "Recall_3_ups = round(recall_score(y_test_ups, model3_ups_pred), 2)\n",
    "F1_Score_3_ups = round(f1_score(y_test_ups, model3_ups_pred), 2)\n",
    "Metrics_3_ups = [Precision_3_ups, Recall_3_ups, F1_Score_3_ups]\n",
    "\n",
    "up_sampled_3 = pd.DataFrame(list(zip(Metrics_3, Metrics_3_newthreshold, Metrics_3_ups)))\n",
    "up_sampled_3.index = ['Precision', 'Recall', 'F1-Score']\n",
    "up_sampled_3.columns = ['Original Dataset', 'Threshold = 0.3', 'Up-sampled Dataset']\n",
    "up_sampled_3"
   ]
  },
  {
   "cell_type": "markdown",
   "metadata": {},
   "source": [
    "Under-sampling"
   ]
  },
  {
   "cell_type": "code",
   "execution_count": 50,
   "metadata": {},
   "outputs": [],
   "source": [
    "# Model3 training on downsampled data\n",
    "model3_down = DecisionTreeClassifier(max_leaf_nodes = 5)\n",
    "model3_down.fit(x_train_und, y_train_und) # model training\n",
    "\n",
    "# Model3 predictions on the test set\n",
    "model3_down_pred = model3_down.predict(x_test_und)"
   ]
  },
  {
   "cell_type": "code",
   "execution_count": 51,
   "metadata": {},
   "outputs": [
    {
     "data": {
      "image/png": "[encoded data removed]",
      "text/plain": [
       "<Figure size 500x500 with 1 Axes>"
      ]
     },
     "metadata": {},
     "output_type": "display_data"
    }
   ],
   "source": [
    "# Confusion matrix\n",
    "conf_matrix = confusion_matrix(y_true = y_test_und, y_pred = model3_down_pred)\n",
    "fig, ax = plt.subplots(figsize = (5, 5))\n",
    "ax.matshow(conf_matrix, cmap = plt.cm.Accent, alpha = 0.4)\n",
    "for i in range(conf_matrix.shape[0]):\n",
    "    for j in range(conf_matrix.shape[1]):\n",
    "        ax.text(x = j, y = i, s = conf_matrix[i, j],\n",
    "                va = 'center', ha = 'center', size = 'x-large')\n",
    "\n",
    "plt.xlabel('Prediction', fontsize = 8)\n",
    "plt.ylabel('Actual', fontsize = 8)\n",
    "plt.title('Confusion Matrix', fontsize = 10)\n",
    "plt.show()"
   ]
  },
  {
   "cell_type": "code",
   "execution_count": 52,
   "metadata": {},
   "outputs": [
    {
     "data": {
      "text/html": [
       "<div>\n",
       "<style scoped>\n",
       "    .dataframe tbody tr th:only-of-type {\n",
       "        vertical-align: middle;\n",
       "    }\n",
       "\n",
       "    .dataframe tbody tr th {\n",
       "        vertical-align: top;\n",
       "    }\n",
       "\n",
       "    .dataframe thead th {\n",
       "        text-align: right;\n",
       "    }\n",
       "</style>\n",
       "<table border=\"1\" class=\"dataframe\">\n",
       "  <thead>\n",
       "    <tr style=\"text-align: right;\">\n",
       "      <th></th>\n",
       "      <th>Original Dataset</th>\n",
       "      <th>Threshold = 0.3</th>\n",
       "      <th>Up-sampled Dataset</th>\n",
       "      <th>Under-sampled Dataset</th>\n",
       "    </tr>\n",
       "  </thead>\n",
       "  <tbody>\n",
       "    <tr>\n",
       "      <th>Precision</th>\n",
       "      <td>0.61</td>\n",
       "      <td>0.38</td>\n",
       "      <td>0.60</td>\n",
       "      <td>0.60</td>\n",
       "    </tr>\n",
       "    <tr>\n",
       "      <th>Recall</th>\n",
       "      <td>0.12</td>\n",
       "      <td>1.00</td>\n",
       "      <td>0.40</td>\n",
       "      <td>0.40</td>\n",
       "    </tr>\n",
       "    <tr>\n",
       "      <th>F1-Score</th>\n",
       "      <td>0.21</td>\n",
       "      <td>0.55</td>\n",
       "      <td>0.48</td>\n",
       "      <td>0.48</td>\n",
       "    </tr>\n",
       "  </tbody>\n",
       "</table>\n",
       "</div>"
      ],
      "text/plain": [
       "           Original Dataset  Threshold = 0.3  Up-sampled Dataset  \\\n",
       "Precision              0.61             0.38                0.60   \n",
       "Recall                 0.12             1.00                0.40   \n",
       "F1-Score               0.21             0.55                0.48   \n",
       "\n",
       "           Under-sampled Dataset  \n",
       "Precision                   0.60  \n",
       "Recall                      0.40  \n",
       "F1-Score                    0.48  "
      ]
     },
     "execution_count": 52,
     "metadata": {},
     "output_type": "execute_result"
    }
   ],
   "source": [
    "# Model3 Precision, Recall and F1-Score on downsampled data\n",
    "Precision_3_down = round(precision_score(y_test_und, model3_down_pred), 2)\n",
    "Recall_3_down = round(recall_score(y_test_und, model3_down_pred), 2)\n",
    "F1_Score_3_down = round(f1_score(y_test_und, model3_down_pred), 2)\n",
    "Metrics_3_down = [Precision_3_down, Recall_3_down, F1_Score_3_down]\n",
    "\n",
    "down_sampled_3 = pd.DataFrame(list(zip(Metrics_3, Metrics_3_newthreshold, Metrics_3_ups, Metrics_3_down)))\n",
    "down_sampled_3.index = ['Precision', 'Recall', 'F1-Score']\n",
    "down_sampled_3.columns = ['Original Dataset', 'Threshold = 0.3', 'Up-sampled Dataset', 'Under-sampled Dataset']\n",
    "down_sampled_3"
   ]
  },
  {
   "cell_type": "code",
   "execution_count": 53,
   "metadata": {},
   "outputs": [],
   "source": [
    "# model4 - XGBoost Classifier\n",
    "# Importing XGBoost classifier library\n",
    "from xgboost import XGBClassifier\n",
    "\n",
    "# Build XGBoost classifier\n",
    "model4 = XGBClassifier()\n",
    "\n",
    "model4.fit(x_train, y_train) # model training\n",
    "\n",
    "# Model predictions on the test set\n",
    "model4_pred = model4.predict(x_test)"
   ]
  },
  {
   "cell_type": "code",
   "execution_count": 54,
   "metadata": {},
   "outputs": [
    {
     "name": "stdout",
     "output_type": "stream",
     "text": [
      "model4 accuracy on train set: 65.6%\n",
      "model4 accuracy on test set: 64.9%\n"
     ]
    },
    {
     "data": {
      "image/png": "[encoded data removed]",
      "text/plain": [
       "<Figure size 500x500 with 1 Axes>"
      ]
     },
     "metadata": {},
     "output_type": "display_data"
    }
   ],
   "source": [
    "# XGBoost Classifier (model4) evaluation\n",
    "# Checking the Model Accuracy and comparing it to Precision, Recall and F1_Score\n",
    "print('model4 accuracy on train set: {:.1f}%'.format(round(accuracy_score(y_train, model4.predict(x_train))*100, 1)))\n",
    "print('model4 accuracy on test set: {:.1f}%'.format(round(accuracy_score(y_test, model4_pred)*100, 1)))\n",
    "\n",
    "# Confusion matrix\n",
    "conf_matrix = confusion_matrix(y_true = y_test, y_pred = model4_pred)\n",
    "fig, ax = plt.subplots(figsize = (5, 5))\n",
    "ax.matshow(conf_matrix, cmap = plt.cm.Accent, alpha = 0.4)\n",
    "for i in range(conf_matrix.shape[0]):\n",
    "    for j in range(conf_matrix.shape[1]):\n",
    "        ax.text(x = j, y = i, s = conf_matrix[i, j],\n",
    "                va = 'center', ha = 'center', size = 'x-large')\n",
    "\n",
    "plt.xlabel('Prediction', fontsize = 8)\n",
    "plt.ylabel('Actual', fontsize = 8)\n",
    "plt.title('Confusion Matrix', fontsize = 10)\n",
    "plt.show()"
   ]
  },
  {
   "cell_type": "code",
   "execution_count": 55,
   "metadata": {},
   "outputs": [
    {
     "data": {
      "text/html": [
       "<div>\n",
       "<style scoped>\n",
       "    .dataframe tbody tr th:only-of-type {\n",
       "        vertical-align: middle;\n",
       "    }\n",
       "\n",
       "    .dataframe tbody tr th {\n",
       "        vertical-align: top;\n",
       "    }\n",
       "\n",
       "    .dataframe thead th {\n",
       "        text-align: right;\n",
       "    }\n",
       "</style>\n",
       "<table border=\"1\" class=\"dataframe\">\n",
       "  <thead>\n",
       "    <tr style=\"text-align: right;\">\n",
       "      <th></th>\n",
       "      <th>Original Dataset</th>\n",
       "    </tr>\n",
       "  </thead>\n",
       "  <tbody>\n",
       "    <tr>\n",
       "      <th>Precision</th>\n",
       "      <td>0.66</td>\n",
       "    </tr>\n",
       "    <tr>\n",
       "      <th>Recall</th>\n",
       "      <td>0.17</td>\n",
       "    </tr>\n",
       "    <tr>\n",
       "      <th>F1-Score</th>\n",
       "      <td>0.27</td>\n",
       "    </tr>\n",
       "  </tbody>\n",
       "</table>\n",
       "</div>"
      ],
      "text/plain": [
       "           Original Dataset\n",
       "Precision              0.66\n",
       "Recall                 0.17\n",
       "F1-Score               0.27"
      ]
     },
     "execution_count": 55,
     "metadata": {},
     "output_type": "execute_result"
    }
   ],
   "source": [
    "# Precision, Recall and F1-Score of XGBoost Classifier\n",
    "Precision_4 = round(precision_score(y_test, model4_pred), 2)\n",
    "Recall_4 = round(recall_score(y_test, model4_pred), 2)\n",
    "F1_Score_4 = round(f1_score(y_test, model4_pred), 2)\n",
    "Metrics_4 = [Precision_4, Recall_4, F1_Score_4]\n",
    "\n",
    "Original_4 = pd.DataFrame(Metrics_4)\n",
    "Original_4.index = ['Precision', 'Recall', 'F1-Score']\n",
    "Original_4.columns = ['Original Dataset']\n",
    "Original_4"
   ]
  },
  {
   "cell_type": "markdown",
   "metadata": {},
   "source": [
    "Changing prediction threshold"
   ]
  },
  {
   "cell_type": "code",
   "execution_count": 56,
   "metadata": {},
   "outputs": [
    {
     "data": {
      "text/html": [
       "<div>\n",
       "<style scoped>\n",
       "    .dataframe tbody tr th:only-of-type {\n",
       "        vertical-align: middle;\n",
       "    }\n",
       "\n",
       "    .dataframe tbody tr th {\n",
       "        vertical-align: top;\n",
       "    }\n",
       "\n",
       "    .dataframe thead th {\n",
       "        text-align: right;\n",
       "    }\n",
       "</style>\n",
       "<table border=\"1\" class=\"dataframe\">\n",
       "  <thead>\n",
       "    <tr style=\"text-align: right;\">\n",
       "      <th>Metrics</th>\n",
       "      <th>Precision</th>\n",
       "      <th>Recall</th>\n",
       "      <th>F1-Score</th>\n",
       "    </tr>\n",
       "  </thead>\n",
       "  <tbody>\n",
       "    <tr>\n",
       "      <th>Original</th>\n",
       "      <td>0.66</td>\n",
       "      <td>0.17</td>\n",
       "      <td>0.27</td>\n",
       "    </tr>\n",
       "    <tr>\n",
       "      <th>Threshold:0.05</th>\n",
       "      <td>0.38</td>\n",
       "      <td>1.0</td>\n",
       "      <td>0.55</td>\n",
       "    </tr>\n",
       "    <tr>\n",
       "      <th>Threshold:0.1</th>\n",
       "      <td>0.38</td>\n",
       "      <td>1.0</td>\n",
       "      <td>0.55</td>\n",
       "    </tr>\n",
       "    <tr>\n",
       "      <th>Threshold:0.15</th>\n",
       "      <td>0.38</td>\n",
       "      <td>1.0</td>\n",
       "      <td>0.55</td>\n",
       "    </tr>\n",
       "    <tr>\n",
       "      <th>Threshold:0.2</th>\n",
       "      <td>0.38</td>\n",
       "      <td>1.0</td>\n",
       "      <td>0.55</td>\n",
       "    </tr>\n",
       "    <tr>\n",
       "      <th>Threshold:0.25</th>\n",
       "      <td>0.39</td>\n",
       "      <td>0.97</td>\n",
       "      <td>0.56</td>\n",
       "    </tr>\n",
       "    <tr>\n",
       "      <th>Threshold:0.3</th>\n",
       "      <td>0.41</td>\n",
       "      <td>0.87</td>\n",
       "      <td>0.56</td>\n",
       "    </tr>\n",
       "    <tr>\n",
       "      <th>Threshold:0.35</th>\n",
       "      <td>0.44</td>\n",
       "      <td>0.7</td>\n",
       "      <td>0.54</td>\n",
       "    </tr>\n",
       "    <tr>\n",
       "      <th>Threshold:0.4</th>\n",
       "      <td>0.51</td>\n",
       "      <td>0.43</td>\n",
       "      <td>0.46</td>\n",
       "    </tr>\n",
       "    <tr>\n",
       "      <th>Threshold:0.45</th>\n",
       "      <td>0.6</td>\n",
       "      <td>0.24</td>\n",
       "      <td>0.34</td>\n",
       "    </tr>\n",
       "    <tr>\n",
       "      <th>Threshold:0.5</th>\n",
       "      <td>0.66</td>\n",
       "      <td>0.17</td>\n",
       "      <td>0.27</td>\n",
       "    </tr>\n",
       "    <tr>\n",
       "      <th>Threshold:0.55</th>\n",
       "      <td>0.69</td>\n",
       "      <td>0.13</td>\n",
       "      <td>0.22</td>\n",
       "    </tr>\n",
       "    <tr>\n",
       "      <th>Threshold:0.6</th>\n",
       "      <td>0.77</td>\n",
       "      <td>0.08</td>\n",
       "      <td>0.15</td>\n",
       "    </tr>\n",
       "    <tr>\n",
       "      <th>Threshold:0.65</th>\n",
       "      <td>0.87</td>\n",
       "      <td>0.06</td>\n",
       "      <td>0.11</td>\n",
       "    </tr>\n",
       "    <tr>\n",
       "      <th>Threshold:0.7</th>\n",
       "      <td>0.95</td>\n",
       "      <td>0.05</td>\n",
       "      <td>0.09</td>\n",
       "    </tr>\n",
       "    <tr>\n",
       "      <th>Threshold:0.75</th>\n",
       "      <td>0.98</td>\n",
       "      <td>0.04</td>\n",
       "      <td>0.08</td>\n",
       "    </tr>\n",
       "  </tbody>\n",
       "</table>\n",
       "</div>"
      ],
      "text/plain": [
       "Metrics        Precision Recall F1-Score\n",
       "Original            0.66   0.17     0.27\n",
       "Threshold:0.05      0.38    1.0     0.55\n",
       "Threshold:0.1       0.38    1.0     0.55\n",
       "Threshold:0.15      0.38    1.0     0.55\n",
       "Threshold:0.2       0.38    1.0     0.55\n",
       "Threshold:0.25      0.39   0.97     0.56\n",
       "Threshold:0.3       0.41   0.87     0.56\n",
       "Threshold:0.35      0.44    0.7     0.54\n",
       "Threshold:0.4       0.51   0.43     0.46\n",
       "Threshold:0.45       0.6   0.24     0.34\n",
       "Threshold:0.5       0.66   0.17     0.27\n",
       "Threshold:0.55      0.69   0.13     0.22\n",
       "Threshold:0.6       0.77   0.08     0.15\n",
       "Threshold:0.65      0.87   0.06     0.11\n",
       "Threshold:0.7       0.95   0.05     0.09\n",
       "Threshold:0.75      0.98   0.04     0.08"
      ]
     },
     "execution_count": 56,
     "metadata": {},
     "output_type": "execute_result"
    }
   ],
   "source": [
    "cols = ['Metrics', 'Original']\n",
    "model4_adj_threshold = pd.DataFrame()\n",
    "model4_adj_threshold['Original'] = Metrics_4\n",
    "thresholds = [j/20 for j in range(1, 16)]\n",
    "for i in thresholds:\n",
    "    model4_new_threshold = (model4.predict_proba(x_test)[:, 1] >= i).astype(int)\n",
    "    Precision_4_adj_threshold = round(precision_score(y_test, model4_new_threshold, average = 'binary'), 2)\n",
    "    Recall_4_adj_threshold = round(recall_score(y_test, model4_new_threshold, average = 'binary'), 2)\n",
    "    F1_SCore_4_adj_threshold = round(f1_score(y_test, model4_new_threshold, average = 'binary'), 2)\n",
    "    Metrics_4_adj_threshold = [Precision_4_adj_threshold, Recall_4_adj_threshold, F1_SCore_4_adj_threshold]\n",
    "    name = 'Threshold:' + str(i)\n",
    "    model4_adj_threshold[name] = Metrics_4_adj_threshold\n",
    "    cols.append(name)\n",
    "\n",
    "model4_adj_threshold.index = ['Precision', 'Recall', 'F1-Score']\n",
    "model4_adj_threshold = model4_adj_threshold.reset_index()\n",
    "model4_adj_threshold.columns = cols\n",
    "model4_adj_threshold.transpose()\n",
    "\n",
    "adj_threshold4 = model4_adj_threshold.transpose().iloc[1:, :]\n",
    "adj_threshold4.columns = model4_adj_threshold.iloc[:, 0]\n",
    "adj_threshold4"
   ]
  },
  {
   "cell_type": "code",
   "execution_count": 57,
   "metadata": {},
   "outputs": [
    {
     "data": {
      "text/plain": [
       "<matplotlib.legend.Legend at 0x2b32f868c90>"
      ]
     },
     "execution_count": 57,
     "metadata": {},
     "output_type": "execute_result"
    },
    {
     "data": {
      "image/png": "[encoded data removed]",
      "text/plain": [
       "<Figure size 1500x500 with 1 Axes>"
      ]
     },
     "metadata": {},
     "output_type": "display_data"
    }
   ],
   "source": [
    "# Plotting the metrics\n",
    "model4_adj_threshold.plot(x = 'Metrics',\n",
    "                          kind = 'bar',\n",
    "                          stacked = False,\n",
    "                          title = 'Metrics across varying thresholds',\n",
    "                          figsize = (15, 5),\n",
    "                          cmap = 'twilight').legend(loc = 'center left', bbox_to_anchor = (1.0, 0.5))"
   ]
  },
  {
   "cell_type": "code",
   "execution_count": 93,
   "metadata": {},
   "outputs": [
    {
     "data": {
      "image/png": "[encoded data removed]",
      "text/plain": [
       "<Figure size 500x500 with 1 Axes>"
      ]
     },
     "metadata": {},
     "output_type": "display_data"
    }
   ],
   "source": [
    "# Model4 prediction with threshold at 0.25\n",
    "model4_pred_new_threshold = (model4.predict_proba(x_test)[:, 1] >= 0.25).astype(int)\n",
    "\n",
    "# Confusion matrix\n",
    "conf_matrix = confusion_matrix(y_true = y_test, y_pred = model4_pred_new_threshold)\n",
    "fig, ax = plt.subplots(figsize = (5, 5))\n",
    "ax.matshow(conf_matrix, cmap = plt.cm.Accent, alpha = 0.4)\n",
    "for i in range(conf_matrix.shape[0]):\n",
    "    for j in range(conf_matrix.shape[1]):\n",
    "        ax.text(x = j, y = i, s = conf_matrix[i, j],\n",
    "                va = 'center', ha = 'center', size = 'x-large')\n",
    "\n",
    "plt.xlabel('Prediction', fontsize = 8)\n",
    "plt.ylabel('Actual', fontsize = 8)\n",
    "plt.title('Confusion Matrix', fontsize = 10)\n",
    "plt.show()"
   ]
  },
  {
   "cell_type": "code",
   "execution_count": 94,
   "metadata": {},
   "outputs": [
    {
     "data": {
      "text/html": [
       "<div>\n",
       "<style scoped>\n",
       "    .dataframe tbody tr th:only-of-type {\n",
       "        vertical-align: middle;\n",
       "    }\n",
       "\n",
       "    .dataframe tbody tr th {\n",
       "        vertical-align: top;\n",
       "    }\n",
       "\n",
       "    .dataframe thead th {\n",
       "        text-align: right;\n",
       "    }\n",
       "</style>\n",
       "<table border=\"1\" class=\"dataframe\">\n",
       "  <thead>\n",
       "    <tr style=\"text-align: right;\">\n",
       "      <th></th>\n",
       "      <th>Original Dataset</th>\n",
       "      <th>New Threshold Dataset</th>\n",
       "    </tr>\n",
       "  </thead>\n",
       "  <tbody>\n",
       "    <tr>\n",
       "      <th>Precision</th>\n",
       "      <td>0.66</td>\n",
       "      <td>0.39</td>\n",
       "    </tr>\n",
       "    <tr>\n",
       "      <th>Recall</th>\n",
       "      <td>0.17</td>\n",
       "      <td>0.97</td>\n",
       "    </tr>\n",
       "    <tr>\n",
       "      <th>F1-Score</th>\n",
       "      <td>0.27</td>\n",
       "      <td>0.56</td>\n",
       "    </tr>\n",
       "  </tbody>\n",
       "</table>\n",
       "</div>"
      ],
      "text/plain": [
       "           Original Dataset  New Threshold Dataset\n",
       "Precision              0.66                   0.39\n",
       "Recall                 0.17                   0.97\n",
       "F1-Score               0.27                   0.56"
      ]
     },
     "execution_count": 94,
     "metadata": {},
     "output_type": "execute_result"
    }
   ],
   "source": [
    "# Precision, Recall and F1-Score of new model prediction with optimal threshold\n",
    "Precision_4_newthreshold = round(precision_score(y_test, model4_pred_new_threshold), 2)\n",
    "Recall_4_newthreshold = round(recall_score(y_test, model4_pred_new_threshold), 2)\n",
    "F1_Score_4_newthreshold = round(f1_score(y_test, model4_pred_new_threshold), 2)\n",
    "Metrics_4_newthreshold = [Precision_4_newthreshold, Recall_4_newthreshold, F1_Score_4_newthreshold]\n",
    "\n",
    "model4_newthreshold = pd.DataFrame(list(zip(Metrics_4, Metrics_4_newthreshold)))\n",
    "model4_newthreshold.index = ['Precision', 'Recall', 'F1-Score']\n",
    "model4_newthreshold.columns = ['Original Dataset', 'New Threshold Dataset']\n",
    "model4_newthreshold"
   ]
  },
  {
   "cell_type": "markdown",
   "metadata": {},
   "source": [
    "Over-sampling"
   ]
  },
  {
   "cell_type": "code",
   "execution_count": 61,
   "metadata": {},
   "outputs": [],
   "source": [
    "# Model4 training on upsampled data\n",
    "model4_ups = XGBClassifier()\n",
    "model4_ups.fit(x_train_ups, y_train_ups) # model training\n",
    "\n",
    "# Model4 predictions on the test set\n",
    "model4_ups_pred = model4_ups.predict(x_test_ups)"
   ]
  },
  {
   "cell_type": "code",
   "execution_count": 62,
   "metadata": {},
   "outputs": [
    {
     "data": {
      "image/png": "[encoded data removed]",
      "text/plain": [
       "<Figure size 500x500 with 1 Axes>"
      ]
     },
     "metadata": {},
     "output_type": "display_data"
    }
   ],
   "source": [
    "# Confusion matrix\n",
    "conf_matrix = confusion_matrix(y_true = y_test_ups, y_pred = model4_ups_pred)\n",
    "fig, ax = plt.subplots(figsize = (5, 5))\n",
    "ax.matshow(conf_matrix, cmap = plt.cm.Accent, alpha = 0.4)\n",
    "for i in range(conf_matrix.shape[0]):\n",
    "    for j in range(conf_matrix.shape[1]):\n",
    "        ax.text(x = j, y = i, s = conf_matrix[i, j],\n",
    "                va = 'center', ha = 'center', size = 'x-large')\n",
    "\n",
    "plt.xlabel('Prediction', fontsize = 8)\n",
    "plt.ylabel('Actual', fontsize = 8)\n",
    "plt.title('Confusion Matrix', fontsize = 10)\n",
    "plt.show()"
   ]
  },
  {
   "cell_type": "code",
   "execution_count": 95,
   "metadata": {},
   "outputs": [
    {
     "data": {
      "text/html": [
       "<div>\n",
       "<style scoped>\n",
       "    .dataframe tbody tr th:only-of-type {\n",
       "        vertical-align: middle;\n",
       "    }\n",
       "\n",
       "    .dataframe tbody tr th {\n",
       "        vertical-align: top;\n",
       "    }\n",
       "\n",
       "    .dataframe thead th {\n",
       "        text-align: right;\n",
       "    }\n",
       "</style>\n",
       "<table border=\"1\" class=\"dataframe\">\n",
       "  <thead>\n",
       "    <tr style=\"text-align: right;\">\n",
       "      <th></th>\n",
       "      <th>Original Dataset</th>\n",
       "      <th>Threshold = 0.3</th>\n",
       "      <th>Up-sampled Dataset</th>\n",
       "    </tr>\n",
       "  </thead>\n",
       "  <tbody>\n",
       "    <tr>\n",
       "      <th>Precision</th>\n",
       "      <td>0.66</td>\n",
       "      <td>0.39</td>\n",
       "      <td>0.62</td>\n",
       "    </tr>\n",
       "    <tr>\n",
       "      <th>Recall</th>\n",
       "      <td>0.17</td>\n",
       "      <td>0.97</td>\n",
       "      <td>0.50</td>\n",
       "    </tr>\n",
       "    <tr>\n",
       "      <th>F1-Score</th>\n",
       "      <td>0.27</td>\n",
       "      <td>0.56</td>\n",
       "      <td>0.55</td>\n",
       "    </tr>\n",
       "  </tbody>\n",
       "</table>\n",
       "</div>"
      ],
      "text/plain": [
       "           Original Dataset  Threshold = 0.3  Up-sampled Dataset\n",
       "Precision              0.66             0.39                0.62\n",
       "Recall                 0.17             0.97                0.50\n",
       "F1-Score               0.27             0.56                0.55"
      ]
     },
     "execution_count": 95,
     "metadata": {},
     "output_type": "execute_result"
    }
   ],
   "source": [
    "# Model4 Precision, Recall and F1-Score on upsampled data\n",
    "Precision_4_ups = round(precision_score(y_test_ups, model4_ups_pred), 2)\n",
    "Recall_4_ups = round(recall_score(y_test_ups, model4_ups_pred), 2)\n",
    "F1_Score_4_ups = round(f1_score(y_test_ups, model4_ups_pred), 2)\n",
    "Metrics_4_ups = [Precision_4_ups, Recall_4_ups, F1_Score_4_ups]\n",
    "\n",
    "up_sampled_4 = pd.DataFrame(list(zip(Metrics_4, Metrics_4_newthreshold, Metrics_4_ups)))\n",
    "up_sampled_4.index = ['Precision', 'Recall', 'F1-Score']\n",
    "up_sampled_4.columns = ['Original Dataset', 'Threshold = 0.3','Up-sampled Dataset']\n",
    "up_sampled_4"
   ]
  },
  {
   "cell_type": "markdown",
   "metadata": {},
   "source": [
    "Under-sampling"
   ]
  },
  {
   "cell_type": "code",
   "execution_count": 64,
   "metadata": {},
   "outputs": [],
   "source": [
    "# Model4 training on downsampled data\n",
    "model4_down = XGBClassifier()\n",
    "model4_down.fit(x_train_und, y_train_und) # model training\n",
    "\n",
    "# Model predictions on the test set\n",
    "model4_down_pred = model4_down.predict(x_test_und)"
   ]
  },
  {
   "cell_type": "code",
   "execution_count": 65,
   "metadata": {},
   "outputs": [
    {
     "data": {
      "image/png": "[encoded data removed]",
      "text/plain": [
       "<Figure size 500x500 with 1 Axes>"
      ]
     },
     "metadata": {},
     "output_type": "display_data"
    }
   ],
   "source": [
    "# Confusion matrix\n",
    "conf_matrix = confusion_matrix(y_true = y_test_und, y_pred = model4_down_pred)\n",
    "fig, ax = plt.subplots(figsize = (5, 5))\n",
    "ax.matshow(conf_matrix, cmap = plt.cm.Accent, alpha = 0.4)\n",
    "for i in range(conf_matrix.shape[0]):\n",
    "    for j in range(conf_matrix.shape[1]):\n",
    "        ax.text(x = j, y = i, s = conf_matrix[i, j],\n",
    "                va = 'center', ha = 'center', size = 'x-large')\n",
    "\n",
    "plt.xlabel('Prediction', fontsize = 8)\n",
    "plt.ylabel('Actual', fontsize = 8)\n",
    "plt.title('Confusion Matrix', fontsize = 10)\n",
    "plt.show()"
   ]
  },
  {
   "cell_type": "code",
   "execution_count": 96,
   "metadata": {},
   "outputs": [
    {
     "data": {
      "text/html": [
       "<div>\n",
       "<style scoped>\n",
       "    .dataframe tbody tr th:only-of-type {\n",
       "        vertical-align: middle;\n",
       "    }\n",
       "\n",
       "    .dataframe tbody tr th {\n",
       "        vertical-align: top;\n",
       "    }\n",
       "\n",
       "    .dataframe thead th {\n",
       "        text-align: right;\n",
       "    }\n",
       "</style>\n",
       "<table border=\"1\" class=\"dataframe\">\n",
       "  <thead>\n",
       "    <tr style=\"text-align: right;\">\n",
       "      <th></th>\n",
       "      <th>Original Dataset</th>\n",
       "      <th>Threshold = 0.3</th>\n",
       "      <th>Up-sampled Dataset</th>\n",
       "      <th>Under-sampled Dataset</th>\n",
       "    </tr>\n",
       "  </thead>\n",
       "  <tbody>\n",
       "    <tr>\n",
       "      <th>Precision</th>\n",
       "      <td>0.66</td>\n",
       "      <td>0.39</td>\n",
       "      <td>0.62</td>\n",
       "      <td>0.61</td>\n",
       "    </tr>\n",
       "    <tr>\n",
       "      <th>Recall</th>\n",
       "      <td>0.17</td>\n",
       "      <td>0.97</td>\n",
       "      <td>0.50</td>\n",
       "      <td>0.49</td>\n",
       "    </tr>\n",
       "    <tr>\n",
       "      <th>F1-Score</th>\n",
       "      <td>0.27</td>\n",
       "      <td>0.56</td>\n",
       "      <td>0.55</td>\n",
       "      <td>0.54</td>\n",
       "    </tr>\n",
       "  </tbody>\n",
       "</table>\n",
       "</div>"
      ],
      "text/plain": [
       "           Original Dataset  Threshold = 0.3  Up-sampled Dataset  \\\n",
       "Precision              0.66             0.39                0.62   \n",
       "Recall                 0.17             0.97                0.50   \n",
       "F1-Score               0.27             0.56                0.55   \n",
       "\n",
       "           Under-sampled Dataset  \n",
       "Precision                   0.61  \n",
       "Recall                      0.49  \n",
       "F1-Score                    0.54  "
      ]
     },
     "execution_count": 96,
     "metadata": {},
     "output_type": "execute_result"
    }
   ],
   "source": [
    "# Model4 Precision, Recall and F1-Score on downsampled data\n",
    "Precision_4_down = round(precision_score(y_test_und, model4_down_pred), 2)\n",
    "Recall_4_down = round(recall_score(y_test_und, model4_down_pred), 2)\n",
    "F1_Score_4_down = round(f1_score(y_test_und, model4_down_pred), 2)\n",
    "Metrics_4_down = [Precision_4_down, Recall_4_down, F1_Score_4_down]\n",
    "\n",
    "down_sampled_4 = pd.DataFrame(list(zip(Metrics_4, Metrics_4_newthreshold, Metrics_4_ups, Metrics_4_down)))\n",
    "down_sampled_4.index = ['Precision', 'Recall', 'F1-Score']\n",
    "down_sampled_4.columns = ['Original Dataset', 'Threshold = 0.3','Up-sampled Dataset', 'Under-sampled Dataset']\n",
    "down_sampled_4"
   ]
  },
  {
   "cell_type": "code",
   "execution_count": 97,
   "metadata": {},
   "outputs": [
    {
     "name": "stdout",
     "output_type": "stream",
     "text": [
      "Epoch 1/10\n",
      "11111/11111 [==============================] - 66s 6ms/step - loss: 0.6399 - accuracy: 0.6428 - val_loss: 0.6399 - val_accuracy: 0.6431\n",
      "Epoch 2/10\n",
      "11111/11111 [==============================] - 59s 5ms/step - loss: 0.6375 - accuracy: 0.6448 - val_loss: 0.6390 - val_accuracy: 0.6431\n",
      "Epoch 3/10\n",
      "11111/11111 [==============================] - 58s 5ms/step - loss: 0.6371 - accuracy: 0.6450 - val_loss: 0.6391 - val_accuracy: 0.6431\n",
      "Epoch 4/10\n",
      "11111/11111 [==============================] - 56s 5ms/step - loss: 0.6368 - accuracy: 0.6451 - val_loss: 0.6389 - val_accuracy: 0.6425\n",
      "Epoch 5/10\n",
      "11111/11111 [==============================] - 52s 5ms/step - loss: 0.6366 - accuracy: 0.6450 - val_loss: 0.6392 - val_accuracy: 0.6431\n",
      "Epoch 6/10\n",
      "11111/11111 [==============================] - 49s 4ms/step - loss: 0.6365 - accuracy: 0.6452 - val_loss: 0.6392 - val_accuracy: 0.6431\n",
      "Epoch 7/10\n",
      "11111/11111 [==============================] - 42s 4ms/step - loss: 0.6363 - accuracy: 0.6450 - val_loss: 0.6395 - val_accuracy: 0.6430\n",
      "3472/3472 [==============================] - 6s 2ms/step\n"
     ]
    }
   ],
   "source": [
    "# model5 - Deep Multi-Layer Perceptron (MLP) model\n",
    "# Importing tensorflow library\n",
    "import tensorflow as tf\n",
    "\n",
    "# Defining the deep multi-layer perceptron model with 2 hidden layers of 128 and 64 neurons respectively\n",
    "# Added a droupout layer of 20% to help prevent overfitting\n",
    "def deep_MLP_model(input_dim):\n",
    "    model = tf.keras.models.Sequential([\n",
    "        tf.keras.layers.Dense(128, activation = 'relu', input_dim = input_dim), # first hidden layer\n",
    "        tf.keras.layers.Dropout(0.2), # dropout later\n",
    "        tf.keras.layers.Dense(64, activation = 'relu'), # 2nd hidden layer\n",
    "        tf.keras.layers.Dense(1, activation = 'sigmoid') # output layer\n",
    "    ])\n",
    "\n",
    "    # Compile the model\n",
    "    model.compile(optimizer = 'adam', loss = 'binary_crossentropy', metrics = ['accuracy'])\n",
    "    return model\n",
    "\n",
    "# Building the deep multi-layer perceptron model\n",
    "model5 = deep_MLP_model(input_dim = x_train.shape[1])\n",
    "\n",
    "# Model training\n",
    "# setting early stopping monitor so the model stops training when it won't improve anymore\n",
    "early_stopping_monitor = tf.keras.callbacks.EarlyStopping(patience = 3)\n",
    "model5.fit(x_train, y_train, epochs = 10, \n",
    "           batch_size = 32, validation_split = 0.2,\n",
    "           callbacks = [early_stopping_monitor])\n",
    "\n",
    "# Model predictions on the test set\n",
    "model5_pred = (model5.predict(x_test) > 0.5).astype(int).flatten()"
   ]
  },
  {
   "cell_type": "code",
   "execution_count": 98,
   "metadata": {},
   "outputs": [
    {
     "name": "stdout",
     "output_type": "stream",
     "text": [
      "13888/13888 [==============================] - 23s 2ms/step\n",
      "model5 accuracy on train set: 64.5%\n",
      "model5 accuracy on test set: 64.5%\n"
     ]
    },
    {
     "data": {
      "image/png": "[encoded data removed]",
      "text/plain": [
       "<Figure size 500x500 with 1 Axes>"
      ]
     },
     "metadata": {},
     "output_type": "display_data"
    }
   ],
   "source": [
    "# Deep MLP (model5) evaluation\n",
    "# Checking the Model Accuracy and comparing it to Precision, Recall and F1_Score\n",
    "print('model5 accuracy on train set: {:.1f}%'.format(round(accuracy_score(y_train, (model5.predict(x_train) > 0.5).astype(int).flatten())*100, 1)))\n",
    "print('model5 accuracy on test set: {:.1f}%'.format(round(accuracy_score(y_test, model5_pred)*100, 1)))\n",
    "\n",
    "# Confusion matrix\n",
    "conf_matrix = confusion_matrix(y_true = y_test, y_pred = model5_pred)\n",
    "fig, ax = plt.subplots(figsize = (5, 5))\n",
    "ax.matshow(conf_matrix, cmap = plt.cm.Accent, alpha = 0.4)\n",
    "for i in range(conf_matrix.shape[0]):\n",
    "    for j in range(conf_matrix.shape[1]):\n",
    "        ax.text(x = j, y = i, s = conf_matrix[i, j],\n",
    "                va = 'center', ha = 'center', size = 'x-large')\n",
    "\n",
    "plt.xlabel('Prediction', fontsize = 8)\n",
    "plt.ylabel('Actual', fontsize = 8)\n",
    "plt.title('Confusion Matrix', fontsize = 10)\n",
    "plt.show()"
   ]
  },
  {
   "cell_type": "code",
   "execution_count": 99,
   "metadata": {},
   "outputs": [
    {
     "data": {
      "text/html": [
       "<div>\n",
       "<style scoped>\n",
       "    .dataframe tbody tr th:only-of-type {\n",
       "        vertical-align: middle;\n",
       "    }\n",
       "\n",
       "    .dataframe tbody tr th {\n",
       "        vertical-align: top;\n",
       "    }\n",
       "\n",
       "    .dataframe thead th {\n",
       "        text-align: right;\n",
       "    }\n",
       "</style>\n",
       "<table border=\"1\" class=\"dataframe\">\n",
       "  <thead>\n",
       "    <tr style=\"text-align: right;\">\n",
       "      <th></th>\n",
       "      <th>Original Dataset</th>\n",
       "    </tr>\n",
       "  </thead>\n",
       "  <tbody>\n",
       "    <tr>\n",
       "      <th>Precision</th>\n",
       "      <td>0.65</td>\n",
       "    </tr>\n",
       "    <tr>\n",
       "      <th>Recall</th>\n",
       "      <td>0.15</td>\n",
       "    </tr>\n",
       "    <tr>\n",
       "      <th>F1-Score</th>\n",
       "      <td>0.24</td>\n",
       "    </tr>\n",
       "  </tbody>\n",
       "</table>\n",
       "</div>"
      ],
      "text/plain": [
       "           Original Dataset\n",
       "Precision              0.65\n",
       "Recall                 0.15\n",
       "F1-Score               0.24"
      ]
     },
     "execution_count": 99,
     "metadata": {},
     "output_type": "execute_result"
    }
   ],
   "source": [
    "# Precision, Recall and F1-Score of Deep MLP Model\n",
    "Precision_5 = round(precision_score(y_test, model5_pred), 2)\n",
    "Recall_5 = round(recall_score(y_test, model5_pred), 2)\n",
    "F1_Score_5 = round(f1_score(y_test, model5_pred), 2)\n",
    "Metrics_5 = [Precision_5, Recall_5, F1_Score_5]\n",
    "\n",
    "Original_5 = pd.DataFrame(Metrics_5)\n",
    "Original_5.index = ['Precision', 'Recall', 'F1-Score']\n",
    "Original_5.columns = ['Original Dataset']\n",
    "Original_5"
   ]
  },
  {
   "cell_type": "markdown",
   "metadata": {},
   "source": [
    "Changing prediction threshold"
   ]
  },
  {
   "cell_type": "code",
   "execution_count": 100,
   "metadata": {},
   "outputs": [
    {
     "name": "stdout",
     "output_type": "stream",
     "text": [
      "3472/3472 [==============================] - 7s 2ms/step\n",
      "3472/3472 [==============================] - 5s 2ms/step\n",
      "3472/3472 [==============================] - 5s 1ms/step\n",
      "3472/3472 [==============================] - 5s 2ms/step\n",
      "3472/3472 [==============================] - 5s 2ms/step\n",
      "3472/3472 [==============================] - 7s 2ms/step\n",
      "3472/3472 [==============================] - 6s 2ms/step\n",
      "3472/3472 [==============================] - 6s 2ms/step\n",
      "3472/3472 [==============================] - 6s 2ms/step\n",
      "3472/3472 [==============================] - 6s 2ms/step\n",
      "3472/3472 [==============================] - 8s 2ms/step\n",
      "3472/3472 [==============================] - 9s 3ms/step\n",
      "3472/3472 [==============================] - 5s 1ms/step\n",
      "3472/3472 [==============================] - 7s 2ms/step\n",
      "3472/3472 [==============================] - 6s 2ms/step\n"
     ]
    },
    {
     "data": {
      "text/html": [
       "<div>\n",
       "<style scoped>\n",
       "    .dataframe tbody tr th:only-of-type {\n",
       "        vertical-align: middle;\n",
       "    }\n",
       "\n",
       "    .dataframe tbody tr th {\n",
       "        vertical-align: top;\n",
       "    }\n",
       "\n",
       "    .dataframe thead th {\n",
       "        text-align: right;\n",
       "    }\n",
       "</style>\n",
       "<table border=\"1\" class=\"dataframe\">\n",
       "  <thead>\n",
       "    <tr style=\"text-align: right;\">\n",
       "      <th>Metrics</th>\n",
       "      <th>Precision</th>\n",
       "      <th>Recall</th>\n",
       "      <th>F1-Score</th>\n",
       "    </tr>\n",
       "  </thead>\n",
       "  <tbody>\n",
       "    <tr>\n",
       "      <th>Original</th>\n",
       "      <td>0.65</td>\n",
       "      <td>0.15</td>\n",
       "      <td>0.24</td>\n",
       "    </tr>\n",
       "    <tr>\n",
       "      <th>Threshold:0.05</th>\n",
       "      <td>0.38</td>\n",
       "      <td>1.0</td>\n",
       "      <td>0.55</td>\n",
       "    </tr>\n",
       "    <tr>\n",
       "      <th>Threshold:0.1</th>\n",
       "      <td>0.38</td>\n",
       "      <td>1.0</td>\n",
       "      <td>0.55</td>\n",
       "    </tr>\n",
       "    <tr>\n",
       "      <th>Threshold:0.15</th>\n",
       "      <td>0.38</td>\n",
       "      <td>1.0</td>\n",
       "      <td>0.55</td>\n",
       "    </tr>\n",
       "    <tr>\n",
       "      <th>Threshold:0.2</th>\n",
       "      <td>0.38</td>\n",
       "      <td>1.0</td>\n",
       "      <td>0.55</td>\n",
       "    </tr>\n",
       "    <tr>\n",
       "      <th>Threshold:0.25</th>\n",
       "      <td>0.39</td>\n",
       "      <td>0.98</td>\n",
       "      <td>0.56</td>\n",
       "    </tr>\n",
       "    <tr>\n",
       "      <th>Threshold:0.3</th>\n",
       "      <td>0.41</td>\n",
       "      <td>0.89</td>\n",
       "      <td>0.56</td>\n",
       "    </tr>\n",
       "    <tr>\n",
       "      <th>Threshold:0.35</th>\n",
       "      <td>0.42</td>\n",
       "      <td>0.75</td>\n",
       "      <td>0.54</td>\n",
       "    </tr>\n",
       "    <tr>\n",
       "      <th>Threshold:0.4</th>\n",
       "      <td>0.49</td>\n",
       "      <td>0.43</td>\n",
       "      <td>0.46</td>\n",
       "    </tr>\n",
       "    <tr>\n",
       "      <th>Threshold:0.45</th>\n",
       "      <td>0.58</td>\n",
       "      <td>0.21</td>\n",
       "      <td>0.3</td>\n",
       "    </tr>\n",
       "    <tr>\n",
       "      <th>Threshold:0.5</th>\n",
       "      <td>0.65</td>\n",
       "      <td>0.15</td>\n",
       "      <td>0.24</td>\n",
       "    </tr>\n",
       "    <tr>\n",
       "      <th>Threshold:0.55</th>\n",
       "      <td>0.66</td>\n",
       "      <td>0.14</td>\n",
       "      <td>0.24</td>\n",
       "    </tr>\n",
       "    <tr>\n",
       "      <th>Threshold:0.6</th>\n",
       "      <td>0.7</td>\n",
       "      <td>0.11</td>\n",
       "      <td>0.19</td>\n",
       "    </tr>\n",
       "    <tr>\n",
       "      <th>Threshold:0.65</th>\n",
       "      <td>0.85</td>\n",
       "      <td>0.06</td>\n",
       "      <td>0.11</td>\n",
       "    </tr>\n",
       "    <tr>\n",
       "      <th>Threshold:0.7</th>\n",
       "      <td>0.97</td>\n",
       "      <td>0.04</td>\n",
       "      <td>0.08</td>\n",
       "    </tr>\n",
       "    <tr>\n",
       "      <th>Threshold:0.75</th>\n",
       "      <td>1.0</td>\n",
       "      <td>0.04</td>\n",
       "      <td>0.08</td>\n",
       "    </tr>\n",
       "  </tbody>\n",
       "</table>\n",
       "</div>"
      ],
      "text/plain": [
       "Metrics        Precision Recall F1-Score\n",
       "Original            0.65   0.15     0.24\n",
       "Threshold:0.05      0.38    1.0     0.55\n",
       "Threshold:0.1       0.38    1.0     0.55\n",
       "Threshold:0.15      0.38    1.0     0.55\n",
       "Threshold:0.2       0.38    1.0     0.55\n",
       "Threshold:0.25      0.39   0.98     0.56\n",
       "Threshold:0.3       0.41   0.89     0.56\n",
       "Threshold:0.35      0.42   0.75     0.54\n",
       "Threshold:0.4       0.49   0.43     0.46\n",
       "Threshold:0.45      0.58   0.21      0.3\n",
       "Threshold:0.5       0.65   0.15     0.24\n",
       "Threshold:0.55      0.66   0.14     0.24\n",
       "Threshold:0.6        0.7   0.11     0.19\n",
       "Threshold:0.65      0.85   0.06     0.11\n",
       "Threshold:0.7       0.97   0.04     0.08\n",
       "Threshold:0.75       1.0   0.04     0.08"
      ]
     },
     "execution_count": 100,
     "metadata": {},
     "output_type": "execute_result"
    }
   ],
   "source": [
    "cols = ['Metrics', 'Original']\n",
    "model5_adj_threshold = pd.DataFrame()\n",
    "model5_adj_threshold['Original'] = Metrics_5\n",
    "thresholds = [j/20 for j in range(1, 16)]\n",
    "for i in thresholds:\n",
    "    model5_probabilities = model5.predict(x_test)\n",
    "    model5_new_threshold = (model5_probabilities >= i).astype(int)\n",
    "    Precision_5_adj_threshold = round(precision_score(y_test, model5_new_threshold, average = 'binary'), 2)\n",
    "    Recall_5_adj_threshold = round(recall_score(y_test, model5_new_threshold, average = 'binary'), 2)\n",
    "    F1_SCore_5_adj_threshold = round(f1_score(y_test, model5_new_threshold, average = 'binary'), 2)\n",
    "    Metrics_5_adj_threshold = [Precision_5_adj_threshold, Recall_5_adj_threshold, F1_SCore_5_adj_threshold]\n",
    "    name = 'Threshold:' + str(i)\n",
    "    model5_adj_threshold[name] = Metrics_5_adj_threshold\n",
    "    cols.append(name)\n",
    "\n",
    "model5_adj_threshold.index = ['Precision', 'Recall', 'F1-Score']\n",
    "model5_adj_threshold = model5_adj_threshold.reset_index()\n",
    "model5_adj_threshold.columns = cols\n",
    "model5_adj_threshold.transpose()\n",
    "\n",
    "adj_threshold5 = model5_adj_threshold.transpose().iloc[1:, :]\n",
    "adj_threshold5.columns = model5_adj_threshold.iloc[:, 0]\n",
    "adj_threshold5"
   ]
  },
  {
   "cell_type": "code",
   "execution_count": 101,
   "metadata": {},
   "outputs": [
    {
     "data": {
      "text/plain": [
       "<matplotlib.legend.Legend at 0x2b3c80defd0>"
      ]
     },
     "execution_count": 101,
     "metadata": {},
     "output_type": "execute_result"
    },
    {
     "data": {
      "image/png": "[encoded data removed]",
      "text/plain": [
       "<Figure size 1500x500 with 1 Axes>"
      ]
     },
     "metadata": {},
     "output_type": "display_data"
    }
   ],
   "source": [
    "# Plotting the metrics\n",
    "model5_adj_threshold.plot(x = 'Metrics',\n",
    "                          kind = 'bar',\n",
    "                          stacked = False,\n",
    "                          title = 'Metrics across varying thresholds',\n",
    "                          figsize = (15, 5),\n",
    "                          cmap = 'twilight').legend(loc = 'center left', bbox_to_anchor = (1.0, 0.5))"
   ]
  },
  {
   "cell_type": "code",
   "execution_count": 102,
   "metadata": {},
   "outputs": [
    {
     "data": {
      "image/png": "[encoded data removed]",
      "text/plain": [
       "<Figure size 500x500 with 1 Axes>"
      ]
     },
     "metadata": {},
     "output_type": "display_data"
    }
   ],
   "source": [
    "# Model prediction with threshold at 0.25\n",
    "model5_pred_new_threshold = (model5_probabilities >= 0.25).astype(int)\n",
    "\n",
    "# Confusion matrix\n",
    "conf_matrix = confusion_matrix(y_true = y_test, y_pred = model5_pred_new_threshold)\n",
    "fig, ax = plt.subplots(figsize = (5, 5))\n",
    "ax.matshow(conf_matrix, cmap = plt.cm.Accent, alpha = 0.4)\n",
    "for i in range(conf_matrix.shape[0]):\n",
    "    for j in range(conf_matrix.shape[1]):\n",
    "        ax.text(x = j, y = i, s = conf_matrix[i, j],\n",
    "                va = 'center', ha = 'center', size = 'x-large')\n",
    "\n",
    "plt.xlabel('Prediction', fontsize = 8)\n",
    "plt.ylabel('Actual', fontsize = 8)\n",
    "plt.title('Confusion Matrix', fontsize = 10)\n",
    "plt.show()"
   ]
  },
  {
   "cell_type": "code",
   "execution_count": 103,
   "metadata": {},
   "outputs": [
    {
     "data": {
      "text/html": [
       "<div>\n",
       "<style scoped>\n",
       "    .dataframe tbody tr th:only-of-type {\n",
       "        vertical-align: middle;\n",
       "    }\n",
       "\n",
       "    .dataframe tbody tr th {\n",
       "        vertical-align: top;\n",
       "    }\n",
       "\n",
       "    .dataframe thead th {\n",
       "        text-align: right;\n",
       "    }\n",
       "</style>\n",
       "<table border=\"1\" class=\"dataframe\">\n",
       "  <thead>\n",
       "    <tr style=\"text-align: right;\">\n",
       "      <th></th>\n",
       "      <th>Original Dataset</th>\n",
       "      <th>New Threshold Dataset</th>\n",
       "    </tr>\n",
       "  </thead>\n",
       "  <tbody>\n",
       "    <tr>\n",
       "      <th>Precision</th>\n",
       "      <td>0.65</td>\n",
       "      <td>0.39</td>\n",
       "    </tr>\n",
       "    <tr>\n",
       "      <th>Recall</th>\n",
       "      <td>0.15</td>\n",
       "      <td>0.98</td>\n",
       "    </tr>\n",
       "    <tr>\n",
       "      <th>F1-Score</th>\n",
       "      <td>0.24</td>\n",
       "      <td>0.56</td>\n",
       "    </tr>\n",
       "  </tbody>\n",
       "</table>\n",
       "</div>"
      ],
      "text/plain": [
       "           Original Dataset  New Threshold Dataset\n",
       "Precision              0.65                   0.39\n",
       "Recall                 0.15                   0.98\n",
       "F1-Score               0.24                   0.56"
      ]
     },
     "execution_count": 103,
     "metadata": {},
     "output_type": "execute_result"
    }
   ],
   "source": [
    "# Precision, Recall and F1-Score of new model prediction with optimal threshold\n",
    "Precision_5_newthreshold = round(precision_score(y_test, model5_pred_new_threshold), 2)\n",
    "Recall_5_newthreshold = round(recall_score(y_test, model5_pred_new_threshold), 2)\n",
    "F1_Score_5_newthreshold = round(f1_score(y_test, model5_pred_new_threshold), 2)\n",
    "Metrics_5_newthreshold = [Precision_5_newthreshold, Recall_5_newthreshold, F1_Score_5_newthreshold]\n",
    "\n",
    "model5_newthreshold = pd.DataFrame(list(zip(Metrics_5, Metrics_5_newthreshold)))\n",
    "model5_newthreshold.index = ['Precision', 'Recall', 'F1-Score']\n",
    "model5_newthreshold.columns = ['Original Dataset', 'New Threshold Dataset']\n",
    "model5_newthreshold"
   ]
  },
  {
   "cell_type": "markdown",
   "metadata": {},
   "source": [
    "Over-sampling"
   ]
  },
  {
   "cell_type": "code",
   "execution_count": 104,
   "metadata": {},
   "outputs": [
    {
     "name": "stdout",
     "output_type": "stream",
     "text": [
      "Epoch 1/10\n",
      "13743/13743 [==============================] - 45s 3ms/step - loss: 0.6682 - accuracy: 0.5693 - val_loss: 0.6655 - val_accuracy: 0.5741\n",
      "Epoch 2/10\n",
      "13743/13743 [==============================] - 38s 3ms/step - loss: 0.6662 - accuracy: 0.5730 - val_loss: 0.6653 - val_accuracy: 0.5748\n",
      "Epoch 3/10\n",
      "13743/13743 [==============================] - 39s 3ms/step - loss: 0.6658 - accuracy: 0.5737 - val_loss: 0.6649 - val_accuracy: 0.5753\n",
      "Epoch 4/10\n",
      "13743/13743 [==============================] - 40s 3ms/step - loss: 0.6654 - accuracy: 0.5740 - val_loss: 0.6647 - val_accuracy: 0.5753\n",
      "Epoch 5/10\n",
      "13743/13743 [==============================] - 38s 3ms/step - loss: 0.6650 - accuracy: 0.5742 - val_loss: 0.6641 - val_accuracy: 0.5759\n",
      "Epoch 6/10\n",
      "13743/13743 [==============================] - 39s 3ms/step - loss: 0.6648 - accuracy: 0.5746 - val_loss: 0.6641 - val_accuracy: 0.5759\n",
      "Epoch 7/10\n",
      "13743/13743 [==============================] - 40s 3ms/step - loss: 0.6644 - accuracy: 0.5749 - val_loss: 0.6641 - val_accuracy: 0.5751\n",
      "Epoch 8/10\n",
      "13743/13743 [==============================] - 41s 3ms/step - loss: 0.6642 - accuracy: 0.5754 - val_loss: 0.6641 - val_accuracy: 0.5756\n",
      "4295/4295 [==============================] - 7s 2ms/step\n"
     ]
    }
   ],
   "source": [
    "# Model training on upsampled data\n",
    "# Building the deep multi-layer perceptron model\n",
    "model5_ups = deep_MLP_model(input_dim = x_train_ups.shape[1])\n",
    "\n",
    "# Model training\n",
    "# setting early stopping monitor so the model stops training when it won't improve anymore\n",
    "early_stopping_monitor = tf.keras.callbacks.EarlyStopping(patience = 3)\n",
    "model5_ups.fit(x_train_ups, y_train_ups, epochs = 10, \n",
    "               batch_size = 32, validation_split = 0.2,\n",
    "               callbacks = [early_stopping_monitor])\n",
    "\n",
    "# Model predictions on the test set\n",
    "model5_ups_pred = (model5_ups.predict(x_test_ups) > 0.5).astype(int).flatten()"
   ]
  },
  {
   "cell_type": "code",
   "execution_count": 105,
   "metadata": {},
   "outputs": [
    {
     "data": {
      "image/png": "[encoded data removed]",
      "text/plain": [
       "<Figure size 500x500 with 1 Axes>"
      ]
     },
     "metadata": {},
     "output_type": "display_data"
    }
   ],
   "source": [
    "# Confusion matrix\n",
    "conf_matrix = confusion_matrix(y_true = y_test_ups, y_pred = model5_ups_pred)\n",
    "fig, ax = plt.subplots(figsize = (5, 5))\n",
    "ax.matshow(conf_matrix, cmap = plt.cm.Accent, alpha = 0.4)\n",
    "for i in range(conf_matrix.shape[0]):\n",
    "    for j in range(conf_matrix.shape[1]):\n",
    "        ax.text(x = j, y = i, s = conf_matrix[i, j],\n",
    "                va = 'center', ha = 'center', size = 'x-large')\n",
    "\n",
    "plt.xlabel('Prediction', fontsize = 8)\n",
    "plt.ylabel('Actual', fontsize = 8)\n",
    "plt.title('Confusion Matrix', fontsize = 10)\n",
    "plt.show()"
   ]
  },
  {
   "cell_type": "code",
   "execution_count": 106,
   "metadata": {},
   "outputs": [
    {
     "data": {
      "text/html": [
       "<div>\n",
       "<style scoped>\n",
       "    .dataframe tbody tr th:only-of-type {\n",
       "        vertical-align: middle;\n",
       "    }\n",
       "\n",
       "    .dataframe tbody tr th {\n",
       "        vertical-align: top;\n",
       "    }\n",
       "\n",
       "    .dataframe thead th {\n",
       "        text-align: right;\n",
       "    }\n",
       "</style>\n",
       "<table border=\"1\" class=\"dataframe\">\n",
       "  <thead>\n",
       "    <tr style=\"text-align: right;\">\n",
       "      <th></th>\n",
       "      <th>Original Dataset</th>\n",
       "      <th>Threshold = 0.25</th>\n",
       "      <th>Up-sampled Dataset</th>\n",
       "    </tr>\n",
       "  </thead>\n",
       "  <tbody>\n",
       "    <tr>\n",
       "      <th>Precision</th>\n",
       "      <td>0.65</td>\n",
       "      <td>0.39</td>\n",
       "      <td>0.61</td>\n",
       "    </tr>\n",
       "    <tr>\n",
       "      <th>Recall</th>\n",
       "      <td>0.15</td>\n",
       "      <td>0.98</td>\n",
       "      <td>0.40</td>\n",
       "    </tr>\n",
       "    <tr>\n",
       "      <th>F1-Score</th>\n",
       "      <td>0.24</td>\n",
       "      <td>0.56</td>\n",
       "      <td>0.48</td>\n",
       "    </tr>\n",
       "  </tbody>\n",
       "</table>\n",
       "</div>"
      ],
      "text/plain": [
       "           Original Dataset  Threshold = 0.25  Up-sampled Dataset\n",
       "Precision              0.65              0.39                0.61\n",
       "Recall                 0.15              0.98                0.40\n",
       "F1-Score               0.24              0.56                0.48"
      ]
     },
     "execution_count": 106,
     "metadata": {},
     "output_type": "execute_result"
    }
   ],
   "source": [
    "# Model5 Precision, Recall and F1-Score on upsampled data\n",
    "Precision_5_ups = round(precision_score(y_test_ups, model5_ups_pred), 2)\n",
    "Recall_5_ups = round(recall_score(y_test_ups, model5_ups_pred), 2)\n",
    "F1_Score_5_ups = round(f1_score(y_test_ups, model5_ups_pred), 2)\n",
    "Metrics_5_ups = [Precision_5_ups, Recall_5_ups, F1_Score_5_ups]\n",
    "\n",
    "up_sampled_5 = pd.DataFrame(list(zip(Metrics_5, Metrics_5_newthreshold, Metrics_5_ups)))\n",
    "up_sampled_5.index = ['Precision', 'Recall', 'F1-Score']\n",
    "up_sampled_5.columns = ['Original Dataset', 'Threshold = 0.25','Up-sampled Dataset']\n",
    "up_sampled_5"
   ]
  },
  {
   "cell_type": "markdown",
   "metadata": {},
   "source": [
    "Under-sampling"
   ]
  },
  {
   "cell_type": "code",
   "execution_count": 107,
   "metadata": {},
   "outputs": [
    {
     "name": "stdout",
     "output_type": "stream",
     "text": [
      "Epoch 1/10\n",
      "8478/8478 [==============================] - 26s 3ms/step - loss: 0.6689 - accuracy: 0.5665 - val_loss: 0.6651 - val_accuracy: 0.5722\n",
      "Epoch 2/10\n",
      "8478/8478 [==============================] - 24s 3ms/step - loss: 0.6661 - accuracy: 0.5722 - val_loss: 0.6653 - val_accuracy: 0.5719\n",
      "Epoch 3/10\n",
      "8478/8478 [==============================] - 24s 3ms/step - loss: 0.6656 - accuracy: 0.5729 - val_loss: 0.6650 - val_accuracy: 0.5717\n",
      "Epoch 4/10\n",
      "8478/8478 [==============================] - 25s 3ms/step - loss: 0.6655 - accuracy: 0.5732 - val_loss: 0.6647 - val_accuracy: 0.5736\n",
      "Epoch 5/10\n",
      "8478/8478 [==============================] - 24s 3ms/step - loss: 0.6651 - accuracy: 0.5732 - val_loss: 0.6646 - val_accuracy: 0.5728\n",
      "Epoch 6/10\n",
      "8478/8478 [==============================] - 25s 3ms/step - loss: 0.6649 - accuracy: 0.5739 - val_loss: 0.6649 - val_accuracy: 0.5733\n",
      "Epoch 7/10\n",
      "8478/8478 [==============================] - 25s 3ms/step - loss: 0.6643 - accuracy: 0.5745 - val_loss: 0.6645 - val_accuracy: 0.5722\n",
      "Epoch 8/10\n",
      "8478/8478 [==============================] - 25s 3ms/step - loss: 0.6641 - accuracy: 0.5756 - val_loss: 0.6649 - val_accuracy: 0.5719\n",
      "Epoch 9/10\n",
      "8478/8478 [==============================] - 24s 3ms/step - loss: 0.6636 - accuracy: 0.5766 - val_loss: 0.6646 - val_accuracy: 0.5732\n",
      "Epoch 10/10\n",
      "8478/8478 [==============================] - 24s 3ms/step - loss: 0.6633 - accuracy: 0.5767 - val_loss: 0.6647 - val_accuracy: 0.5725\n",
      "2650/2650 [==============================] - 4s 2ms/step\n"
     ]
    }
   ],
   "source": [
    "# Model training on undersampled data\n",
    "# Building the deep multi-layer perceptron model\n",
    "model5_down = deep_MLP_model(input_dim = x_train_und.shape[1])\n",
    "\n",
    "# Model training\n",
    "# setting early stopping monitor so the model stops training when it won't improve anymore\n",
    "early_stopping_monitor = tf.keras.callbacks.EarlyStopping(patience = 3)\n",
    "model5_down.fit(x_train_und, y_train_und, epochs = 10, \n",
    "                batch_size = 32, validation_split = 0.2,\n",
    "                callbacks = [early_stopping_monitor])\n",
    "\n",
    "# Model predictions on the test set\n",
    "model5_down_pred = (model5_down.predict(x_test_und) > 0.5).astype(int).flatten()"
   ]
  },
  {
   "cell_type": "code",
   "execution_count": 108,
   "metadata": {},
   "outputs": [
    {
     "data": {
      "image/png": "[encoded data removed]",
      "text/plain": [
       "<Figure size 500x500 with 1 Axes>"
      ]
     },
     "metadata": {},
     "output_type": "display_data"
    }
   ],
   "source": [
    "# Confusion matrix\n",
    "conf_matrix = confusion_matrix(y_true = y_test_und, y_pred = model5_down_pred)\n",
    "fig, ax = plt.subplots(figsize = (5, 5))\n",
    "ax.matshow(conf_matrix, cmap = plt.cm.Accent, alpha = 0.4)\n",
    "for i in range(conf_matrix.shape[0]):\n",
    "    for j in range(conf_matrix.shape[1]):\n",
    "        ax.text(x = j, y = i, s = conf_matrix[i, j],\n",
    "                va = 'center', ha = 'center', size = 'x-large')\n",
    "\n",
    "plt.xlabel('Prediction', fontsize = 8)\n",
    "plt.ylabel('Actual', fontsize = 8)\n",
    "plt.title('Confusion Matrix', fontsize = 10)\n",
    "plt.show()"
   ]
  },
  {
   "cell_type": "code",
   "execution_count": 109,
   "metadata": {},
   "outputs": [
    {
     "data": {
      "text/html": [
       "<div>\n",
       "<style scoped>\n",
       "    .dataframe tbody tr th:only-of-type {\n",
       "        vertical-align: middle;\n",
       "    }\n",
       "\n",
       "    .dataframe tbody tr th {\n",
       "        vertical-align: top;\n",
       "    }\n",
       "\n",
       "    .dataframe thead th {\n",
       "        text-align: right;\n",
       "    }\n",
       "</style>\n",
       "<table border=\"1\" class=\"dataframe\">\n",
       "  <thead>\n",
       "    <tr style=\"text-align: right;\">\n",
       "      <th></th>\n",
       "      <th>Original Dataset</th>\n",
       "      <th>Threshold = 0.25</th>\n",
       "      <th>Up-sampled Dataset</th>\n",
       "      <th>Under-sampled Dataset</th>\n",
       "    </tr>\n",
       "  </thead>\n",
       "  <tbody>\n",
       "    <tr>\n",
       "      <th>Precision</th>\n",
       "      <td>0.65</td>\n",
       "      <td>0.39</td>\n",
       "      <td>0.61</td>\n",
       "      <td>0.61</td>\n",
       "    </tr>\n",
       "    <tr>\n",
       "      <th>Recall</th>\n",
       "      <td>0.15</td>\n",
       "      <td>0.98</td>\n",
       "      <td>0.40</td>\n",
       "      <td>0.42</td>\n",
       "    </tr>\n",
       "    <tr>\n",
       "      <th>F1-Score</th>\n",
       "      <td>0.24</td>\n",
       "      <td>0.56</td>\n",
       "      <td>0.48</td>\n",
       "      <td>0.50</td>\n",
       "    </tr>\n",
       "  </tbody>\n",
       "</table>\n",
       "</div>"
      ],
      "text/plain": [
       "           Original Dataset  Threshold = 0.25  Up-sampled Dataset  \\\n",
       "Precision              0.65              0.39                0.61   \n",
       "Recall                 0.15              0.98                0.40   \n",
       "F1-Score               0.24              0.56                0.48   \n",
       "\n",
       "           Under-sampled Dataset  \n",
       "Precision                   0.61  \n",
       "Recall                      0.42  \n",
       "F1-Score                    0.50  "
      ]
     },
     "execution_count": 109,
     "metadata": {},
     "output_type": "execute_result"
    }
   ],
   "source": [
    "# Model5 Precision, Recall and F1-Score on downsampled data\n",
    "Precision_5_down = round(precision_score(y_test_und, model5_down_pred), 2)\n",
    "Recall_5_down = round(recall_score(y_test_und, model5_down_pred), 2)\n",
    "F1_Score_5_down = round(f1_score(y_test_und, model5_down_pred), 2)\n",
    "Metrics_5_down = [Precision_5_down, Recall_5_down, F1_Score_5_down]\n",
    "\n",
    "down_sampled_5 = pd.DataFrame(list(zip(Metrics_5, Metrics_5_newthreshold, Metrics_5_ups, Metrics_5_down)))\n",
    "down_sampled_5.index = ['Precision', 'Recall', 'F1-Score']\n",
    "down_sampled_5.columns = ['Original Dataset', 'Threshold = 0.25','Up-sampled Dataset', 'Under-sampled Dataset']\n",
    "down_sampled_5"
   ]
  },
  {
   "cell_type": "code",
   "execution_count": 112,
   "metadata": {},
   "outputs": [],
   "source": [
    "# Saving the best performing model\n",
    "# XGBoost classifier (model4) was the best performing machine learning model for this problem\n",
    "# import pickle library for saving the model\n",
    "import pickle\n",
    "with open('C:/Isaac/trained_xgb_model.sav', 'wb') as file:\n",
    "    pickle.dump(model4, file)"
   ]
  }
 ],
 "metadata": {
  "kernelspec": {
   "display_name": "Python 3",
   "language": "python",
   "name": "python3"
  },
  "language_info": {
   "codemirror_mode": {
    "name": "ipython",
    "version": 3
   },
   "file_extension": ".py",
   "mimetype": "text/x-python",
   "name": "python",
   "nbconvert_exporter": "python",
   "pygments_lexer": "ipython3",
   "version": "3.11.5"
  }
 },
 "nbformat": 4,
 "nbformat_minor": 2
}
